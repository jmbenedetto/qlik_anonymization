{
 "cells": [
  {
   "cell_type": "markdown",
   "source": "# GOAL",
   "metadata": {
    "formattedRanges": [],
    "cell_id": "3b2d257a6a32433f891e644882cd931e",
    "tags": [],
    "is_collapsed": false,
    "deepnote_cell_type": "text-cell-h1"
   }
  },
  {
   "cell_type": "markdown",
   "source": "Anonymize data from AR app to allow public sharing.\n- AR Comments (OK)\n- Countries (N/A)\n- DSO (OK)\n- ExchangeRates (N/A)\n- Invoice Item Detail\n- Invoices\n- Items\n- Link Table\n- Product Lines\n- Subsidiaries (OK)",
   "metadata": {
    "cell_id": "37e826188d1847038a7e051cc5d9b7c5",
    "tags": [],
    "deepnote_cell_type": "markdown",
    "deepnote_cell_height": 327
   }
  },
  {
   "cell_type": "markdown",
   "source": "# PACKAGES",
   "metadata": {
    "formattedRanges": [],
    "cell_id": "f20b6be1f02a4133a48c0c2ef135e292",
    "tags": [],
    "is_collapsed": false,
    "deepnote_cell_type": "text-cell-h1"
   }
  },
  {
   "cell_type": "code",
   "metadata": {
    "tags": [],
    "cell_id": "4848431b-5825-47f5-8df6-079660b7c9d1",
    "deepnote_to_be_reexecuted": false,
    "source_hash": "3a70f3ff",
    "execution_start": 1658855463630,
    "execution_millis": 9006,
    "deepnote_cell_type": "code",
    "deepnote_cell_height": 190,
    "deepnote_output_heights": [
     611
    ]
   },
   "source": "import pandas as pd\nfrom anonympy.pandas import dfAnonymizer\nfrom anonympy.pandas.utils_pandas import available_methods\nfrom anonympy.pandas.utils_pandas import fake_methods",
   "execution_count": null,
   "outputs": [
    {
     "name": "stderr",
     "text": "/shared-libs/python3.9/py/lib/python3.9/site-packages/tqdm/auto.py:22: TqdmWarning: IProgress not found. Please update jupyter and ipywidgets. See https://ipywidgets.readthedocs.io/en/stable/user_install.html\n  from .autonotebook import tqdm as notebook_tqdm\n",
     "output_type": "stream"
    }
   ]
  },
  {
   "cell_type": "markdown",
   "source": "# PARAMETERS",
   "metadata": {
    "formattedRanges": [],
    "cell_id": "ddf09dbcf2d0456dbaa2074da9b1c430",
    "tags": [],
    "is_collapsed": false,
    "deepnote_cell_type": "text-cell-h1"
   }
  },
  {
   "cell_type": "code",
   "metadata": {
    "cell_id": "44e68c69783b48abb78fdd9ee552df9b",
    "tags": [],
    "deepnote_to_be_reexecuted": false,
    "source_hash": "b87bc622",
    "execution_start": 1658855472644,
    "execution_millis": 3,
    "deepnote_cell_type": "code",
    "deepnote_cell_height": 81
   },
   "source": "source_path='/datasets/gdrive/#profissional/Qlik/Content Factory/'",
   "execution_count": null,
   "outputs": []
  },
  {
   "cell_type": "markdown",
   "source": "# FUNCTIONS",
   "metadata": {
    "formattedRanges": [],
    "cell_id": "45bbce8291b042a8bf67cf4e389f74ce",
    "tags": [],
    "is_collapsed": false,
    "deepnote_cell_type": "text-cell-h1"
   }
  },
  {
   "cell_type": "code",
   "metadata": {
    "cell_id": "21f9c6f879ad487bb349228d637d3f80",
    "tags": [],
    "deepnote_to_be_reexecuted": false,
    "source_hash": "217a00e4",
    "execution_start": 1658868016416,
    "execution_millis": 0,
    "deepnote_cell_type": "code",
    "deepnote_cell_height": 117
   },
   "source": "def noise_amount_column(original_column):\n    noise_column=original_column.replace(\".-\",\"-0.\",regex=True).astype('float')\n    return noise_column.apply(lambda x: round(x*2/3+50000,1) if x>=0 else round(x*2/3-50000,1))",
   "execution_count": null,
   "outputs": []
  },
  {
   "cell_type": "markdown",
   "source": "# DATA ANONYMIZATION",
   "metadata": {
    "formattedRanges": [],
    "cell_id": "6e21545b374a4ce8b0b3a19a256cd8b8",
    "tags": [],
    "is_collapsed": false,
    "deepnote_cell_type": "text-cell-h1"
   }
  },
  {
   "cell_type": "markdown",
   "source": "## Subsidiaries",
   "metadata": {
    "formattedRanges": [],
    "cell_id": "20c3069446a646cfb370a4470bfba72e",
    "tags": [],
    "is_collapsed": false,
    "deepnote_cell_type": "text-cell-h2"
   }
  },
  {
   "cell_type": "code",
   "metadata": {
    "cell_id": "4fb75aff41f440638a1768b31cbb3d75",
    "tags": [],
    "deepnote_to_be_reexecuted": false,
    "source_hash": "d2026652",
    "execution_start": 1658856986271,
    "execution_millis": 894,
    "deepnote_cell_type": "code",
    "deepnote_cell_height": 446
   },
   "source": "df_subsidiaries=pd.read_csv(source_path+'AR_Subsidiaries.csv')\ndf_subsidiaries['NetSuite Subsidiary ID']=df_subsidiaries['NetSuite Subsidiary ID'].astype('str')\ndf_subsidiaries.head()",
   "execution_count": null,
   "outputs": [
    {
     "output_type": "execute_result",
     "execution_count": 13,
     "data": {
      "application/vnd.deepnote.dataframe.v3+json": {
       "column_count": 12,
       "row_count": 5,
       "columns": [
        {
         "name": "Subsidiary",
         "dtype": "object",
         "stats": {
          "unique_count": 5,
          "nan_count": 0,
          "categories": [
           {
            "name": "Qlik Foreign Parent AB - Do Not Use",
            "count": 1
           },
           {
            "name": "Expressor Software Corporation",
            "count": 1
           },
           {
            "name": "3 others",
            "count": 3
           }
          ]
         }
        },
        {
         "name": "%SubsidiaryCode",
         "dtype": "object",
         "stats": {
          "unique_count": 5,
          "nan_count": 0,
          "categories": [
           {
            "name": "NA1",
            "count": 1
           },
           {
            "name": "EXP",
            "count": 1
           },
           {
            "name": "3 others",
            "count": 3
           }
          ]
         }
        },
        {
         "name": "Subsidiary Legal Name",
         "dtype": "object",
         "stats": {
          "unique_count": 5,
          "nan_count": 0,
          "categories": [
           {
            "name": "Qlik Foreign Parent AB - Do Not Use",
            "count": 1
           },
           {
            "name": "Expressor Software Corporation",
            "count": 1
           },
           {
            "name": "3 others",
            "count": 3
           }
          ]
         }
        },
        {
         "name": "Subsidiary Currency Code",
         "dtype": "object",
         "stats": {
          "unique_count": 3,
          "nan_count": 0,
          "categories": [
           {
            "name": "USD",
            "count": 3
           },
           {
            "name": "SEK",
            "count": 1
           },
           {
            "name": "EUR",
            "count": 1
           }
          ]
         }
        },
        {
         "name": "Subsidiary Is Active",
         "dtype": "object",
         "stats": {
          "unique_count": 2,
          "nan_count": 0,
          "categories": [
           {
            "name": "No",
            "count": 3
           },
           {
            "name": "Yes",
            "count": 2
           }
          ]
         }
        },
        {
         "name": "NetSuite Subsidiary ID",
         "dtype": "object",
         "stats": {
          "unique_count": 5,
          "nan_count": 0,
          "categories": [
           {
            "name": "54",
            "count": 1
           },
           {
            "name": "46",
            "count": 1
           },
           {
            "name": "3 others",
            "count": 3
           }
          ]
         }
        },
        {
         "name": "VAT Registration Number",
         "dtype": "object",
         "stats": {
          "unique_count": 1,
          "nan_count": 4,
          "categories": [
           {
            "name": "BE0848691897",
            "count": 1
           },
           {
            "name": "Missing",
            "count": 4
           }
          ]
         }
        },
        {
         "name": "Is Active",
         "dtype": "object",
         "stats": {
          "unique_count": 2,
          "nan_count": 0,
          "categories": [
           {
            "name": "No",
            "count": 3
           },
           {
            "name": "Yes",
            "count": 2
           }
          ]
         }
        },
        {
         "name": "Is Elimination",
         "dtype": "object",
         "stats": {
          "unique_count": 1,
          "nan_count": 0,
          "categories": [
           {
            "name": "No",
            "count": 5
           }
          ]
         }
        },
        {
         "name": "Subsidiary Region",
         "dtype": "object",
         "stats": {
          "unique_count": 3,
          "nan_count": 1,
          "categories": [
           {
            "name": "Technologies",
            "count": 2
           },
           {
            "name": "2 others",
            "count": 2
           },
           {
            "name": "Missing",
            "count": 1
           }
          ]
         }
        },
        {
         "name": "Workday Subsidiary Name",
         "dtype": "object",
         "stats": {
          "unique_count": 1,
          "nan_count": 4,
          "categories": [
           {
            "name": "Expressor Software Corporation",
            "count": 1
           },
           {
            "name": "Missing",
            "count": 4
           }
          ]
         }
        },
        {
         "name": "Is Attunity Subsidiary",
         "dtype": "object",
         "stats": {
          "unique_count": 2,
          "nan_count": 1,
          "categories": [
           {
            "name": "No",
            "count": 3
           },
           {
            "name": "Yes",
            "count": 1
           },
           {
            "name": "Missing",
            "count": 1
           }
          ]
         }
        },
        {
         "name": "_deepnote_index_column",
         "dtype": "int64"
        }
       ],
       "rows": [
        {
         "Subsidiary": "Qlik Foreign Parent AB - Do Not Use",
         "%SubsidiaryCode": "NA1",
         "Subsidiary Legal Name": "Qlik Foreign Parent AB - Do Not Use",
         "Subsidiary Currency Code": "SEK",
         "Subsidiary Is Active": "No",
         "NetSuite Subsidiary ID": "54",
         "VAT Registration Number": "nan",
         "Is Active": "No",
         "Is Elimination": "No",
         "Subsidiary Region": "nan",
         "Workday Subsidiary Name": "nan",
         "Is Attunity Subsidiary": "nan",
         "_deepnote_index_column": 0
        },
        {
         "Subsidiary": "Expressor Software Corporation",
         "%SubsidiaryCode": "EXP",
         "Subsidiary Legal Name": "Expressor Software Corporation",
         "Subsidiary Currency Code": "USD",
         "Subsidiary Is Active": "No",
         "NetSuite Subsidiary ID": "46",
         "VAT Registration Number": "nan",
         "Is Active": "No",
         "Is Elimination": "No",
         "Subsidiary Region": "Americas",
         "Workday Subsidiary Name": "Expressor Software Corporation",
         "Is Attunity Subsidiary": "No",
         "_deepnote_index_column": 1
        },
        {
         "Subsidiary": "Purchase Price Adjustments",
         "%SubsidiaryCode": "PPA",
         "Subsidiary Legal Name": "Purchase Price Adjustments",
         "Subsidiary Currency Code": "USD",
         "Subsidiary Is Active": "Yes",
         "NetSuite Subsidiary ID": "56",
         "VAT Registration Number": "nan",
         "Is Active": "Yes",
         "Is Elimination": "No",
         "Subsidiary Region": "Technologies",
         "Workday Subsidiary Name": "nan",
         "Is Attunity Subsidiary": "No",
         "_deepnote_index_column": 2
        },
        {
         "Subsidiary": "QlikTech Holdings Inc.",
         "%SubsidiaryCode": "HOI",
         "Subsidiary Legal Name": "QlikTech Holdings Inc.",
         "Subsidiary Currency Code": "USD",
         "Subsidiary Is Active": "Yes",
         "NetSuite Subsidiary ID": "13",
         "VAT Registration Number": "nan",
         "Is Active": "Yes",
         "Is Elimination": "No",
         "Subsidiary Region": "Technologies",
         "Workday Subsidiary Name": "nan",
         "Is Attunity Subsidiary": "Yes",
         "_deepnote_index_column": 3
        },
        {
         "Subsidiary": "QlikTech Belgium",
         "%SubsidiaryCode": "BEL",
         "Subsidiary Legal Name": "QlikTech Belgium",
         "Subsidiary Currency Code": "EUR",
         "Subsidiary Is Active": "No",
         "NetSuite Subsidiary ID": "5",
         "VAT Registration Number": "BE0848691897",
         "Is Active": "No",
         "Is Elimination": "No",
         "Subsidiary Region": "EMEA",
         "Workday Subsidiary Name": "nan",
         "Is Attunity Subsidiary": "No",
         "_deepnote_index_column": 4
        }
       ]
      },
      "text/plain": "                            Subsidiary %SubsidiaryCode  \\\n0  Qlik Foreign Parent AB - Do Not Use             NA1   \n1       Expressor Software Corporation             EXP   \n2           Purchase Price Adjustments             PPA   \n3               QlikTech Holdings Inc.             HOI   \n4                     QlikTech Belgium             BEL   \n\n                 Subsidiary Legal Name Subsidiary Currency Code  \\\n0  Qlik Foreign Parent AB - Do Not Use                      SEK   \n1       Expressor Software Corporation                      USD   \n2           Purchase Price Adjustments                      USD   \n3               QlikTech Holdings Inc.                      USD   \n4                     QlikTech Belgium                      EUR   \n\n  Subsidiary Is Active NetSuite Subsidiary ID VAT Registration Number  \\\n0                   No                     54                     NaN   \n1                   No                     46                     NaN   \n2                  Yes                     56                     NaN   \n3                  Yes                     13                     NaN   \n4                   No                      5            BE0848691897   \n\n  Is Active Is Elimination Subsidiary Region         Workday Subsidiary Name  \\\n0        No             No               NaN                             NaN   \n1        No             No          Americas  Expressor Software Corporation   \n2       Yes             No      Technologies                             NaN   \n3       Yes             No      Technologies                             NaN   \n4        No             No              EMEA                             NaN   \n\n  Is Attunity Subsidiary  \n0                    NaN  \n1                     No  \n2                     No  \n3                    Yes  \n4                     No  ",
      "text/html": "<div>\n<style scoped>\n    .dataframe tbody tr th:only-of-type {\n        vertical-align: middle;\n    }\n\n    .dataframe tbody tr th {\n        vertical-align: top;\n    }\n\n    .dataframe thead th {\n        text-align: right;\n    }\n</style>\n<table border=\"1\" class=\"dataframe\">\n  <thead>\n    <tr style=\"text-align: right;\">\n      <th></th>\n      <th>Subsidiary</th>\n      <th>%SubsidiaryCode</th>\n      <th>Subsidiary Legal Name</th>\n      <th>Subsidiary Currency Code</th>\n      <th>Subsidiary Is Active</th>\n      <th>NetSuite Subsidiary ID</th>\n      <th>VAT Registration Number</th>\n      <th>Is Active</th>\n      <th>Is Elimination</th>\n      <th>Subsidiary Region</th>\n      <th>Workday Subsidiary Name</th>\n      <th>Is Attunity Subsidiary</th>\n    </tr>\n  </thead>\n  <tbody>\n    <tr>\n      <th>0</th>\n      <td>Qlik Foreign Parent AB - Do Not Use</td>\n      <td>NA1</td>\n      <td>Qlik Foreign Parent AB - Do Not Use</td>\n      <td>SEK</td>\n      <td>No</td>\n      <td>54</td>\n      <td>NaN</td>\n      <td>No</td>\n      <td>No</td>\n      <td>NaN</td>\n      <td>NaN</td>\n      <td>NaN</td>\n    </tr>\n    <tr>\n      <th>1</th>\n      <td>Expressor Software Corporation</td>\n      <td>EXP</td>\n      <td>Expressor Software Corporation</td>\n      <td>USD</td>\n      <td>No</td>\n      <td>46</td>\n      <td>NaN</td>\n      <td>No</td>\n      <td>No</td>\n      <td>Americas</td>\n      <td>Expressor Software Corporation</td>\n      <td>No</td>\n    </tr>\n    <tr>\n      <th>2</th>\n      <td>Purchase Price Adjustments</td>\n      <td>PPA</td>\n      <td>Purchase Price Adjustments</td>\n      <td>USD</td>\n      <td>Yes</td>\n      <td>56</td>\n      <td>NaN</td>\n      <td>Yes</td>\n      <td>No</td>\n      <td>Technologies</td>\n      <td>NaN</td>\n      <td>No</td>\n    </tr>\n    <tr>\n      <th>3</th>\n      <td>QlikTech Holdings Inc.</td>\n      <td>HOI</td>\n      <td>QlikTech Holdings Inc.</td>\n      <td>USD</td>\n      <td>Yes</td>\n      <td>13</td>\n      <td>NaN</td>\n      <td>Yes</td>\n      <td>No</td>\n      <td>Technologies</td>\n      <td>NaN</td>\n      <td>Yes</td>\n    </tr>\n    <tr>\n      <th>4</th>\n      <td>QlikTech Belgium</td>\n      <td>BEL</td>\n      <td>QlikTech Belgium</td>\n      <td>EUR</td>\n      <td>No</td>\n      <td>5</td>\n      <td>BE0848691897</td>\n      <td>No</td>\n      <td>No</td>\n      <td>EMEA</td>\n      <td>NaN</td>\n      <td>No</td>\n    </tr>\n  </tbody>\n</table>\n</div>"
     },
     "metadata": {}
    }
   ]
  },
  {
   "cell_type": "code",
   "metadata": {
    "cell_id": "5ad1fcbe86b242f1b60bd00fc0658de7",
    "tags": [],
    "deepnote_to_be_reexecuted": false,
    "source_hash": "34348cb9",
    "execution_start": 1658856986850,
    "execution_millis": 324,
    "deepnote_cell_type": "code",
    "deepnote_cell_height": 886,
    "deepnote_output_heights": [
     192,
     192
    ]
   },
   "source": "anon_subsidiaries = dfAnonymizer(df_subsidiaries)\n\nanon_subsidiaries.categorical_tokenization('%SubsidiaryCode',max_token_len=3)\nanon_subsidiaries.categorical_fake({'Subsidiary':'company'})\nanon_subsidiaries.column_suppression(['Is Attunity Subsidiary','VAT Registration Number'])\nanon_subsidiaries.categorical_resampling(['Subsidiary Currency Code','Subsidiary Region'])\n\nprint(anon_subsidiaries.info())\n\ndf_subsidiaries_anon=anon_subsidiaries.to_df()\ndf_subsidiaries_anon['NetSuite Subsidiary ID']=df_subsidiaries_anon['%SubsidiaryCode']\ndf_subsidiaries_anon['Subsidiary Legal Name']=df_subsidiaries_anon['Subsidiary']\ndf_subsidiaries_anon['Workday Subsidiary Name']=df_subsidiaries_anon['Subsidiary']\ndf_subsidiaries_anon['Subsidiary Region']=df_subsidiaries_anon['Subsidiary Region'].replace({'Technologies':'World'},inplace=False)",
   "execution_count": null,
   "outputs": [
    {
     "name": "stdout",
     "text": "+--------------------------+--------+-------------+--------------------+\n|          Column          | Status |    Type     |       Method       |\n+==========================+========+=============+====================+\n| Subsidiary               | 1      | categorical | Synthetic Data     |\n+--------------------------+--------+-------------+--------------------+\n| %SubsidiaryCode          | 1      | categorical | Tokenization       |\n+--------------------------+--------+-------------+--------------------+\n| Subsidiary Legal Name    | 0      | categorical |                    |\n+--------------------------+--------+-------------+--------------------+\n| Subsidiary Currency Code | 1      | categorical | Resampling         |\n+--------------------------+--------+-------------+--------------------+\n| Subsidiary Is Active     | 0      | categorical |                    |\n+--------------------------+--------+-------------+--------------------+\n| NetSuite Subsidiary ID   | 0      | categorical |                    |\n+--------------------------+--------+-------------+--------------------+\n| VAT Registration Number  | 1      | categorical | Column Suppression |\n+--------------------------+--------+-------------+--------------------+\n| Is Active                | 0      | categorical |                    |\n+--------------------------+--------+-------------+--------------------+\n| Is Elimination           | 0      | categorical |                    |\n+--------------------------+--------+-------------+--------------------+\n| Subsidiary Region        | 1      | categorical | Resampling         |\n+--------------------------+--------+-------------+--------------------+\n| Workday Subsidiary Name  | 0      | categorical |                    |\n+--------------------------+--------+-------------+--------------------+\n| Is Attunity Subsidiary   | 1      | categorical | Column Suppression |\n+--------------------------+--------+-------------+--------------------+\nNone\n",
     "output_type": "stream"
    }
   ]
  },
  {
   "cell_type": "code",
   "metadata": {
    "cell_id": "2dd3803575414596a676d5dcbdca1561",
    "tags": [],
    "deepnote_to_be_reexecuted": false,
    "source_hash": "aa4e0949",
    "execution_start": 1658856986974,
    "execution_millis": 213,
    "deepnote_cell_type": "code",
    "deepnote_cell_height": 428
   },
   "source": "df_subsidiaries=df_subsidiaries.join(df_subsidiaries_anon,how='inner',lsuffix='_orig')\ndf_subsidiaries.head()",
   "execution_count": null,
   "outputs": [
    {
     "output_type": "execute_result",
     "execution_count": 15,
     "data": {
      "application/vnd.deepnote.dataframe.v3+json": {
       "column_count": 22,
       "row_count": 5,
       "columns": [
        {
         "name": "Subsidiary_orig",
         "dtype": "object",
         "stats": {
          "unique_count": 5,
          "nan_count": 0,
          "categories": [
           {
            "name": "Qlik Foreign Parent AB - Do Not Use",
            "count": 1
           },
           {
            "name": "Expressor Software Corporation",
            "count": 1
           },
           {
            "name": "3 others",
            "count": 3
           }
          ]
         }
        },
        {
         "name": "%SubsidiaryCode_orig",
         "dtype": "object",
         "stats": {
          "unique_count": 5,
          "nan_count": 0,
          "categories": [
           {
            "name": "NA1",
            "count": 1
           },
           {
            "name": "EXP",
            "count": 1
           },
           {
            "name": "3 others",
            "count": 3
           }
          ]
         }
        },
        {
         "name": "Subsidiary Legal Name_orig",
         "dtype": "object",
         "stats": {
          "unique_count": 5,
          "nan_count": 0,
          "categories": [
           {
            "name": "Qlik Foreign Parent AB - Do Not Use",
            "count": 1
           },
           {
            "name": "Expressor Software Corporation",
            "count": 1
           },
           {
            "name": "3 others",
            "count": 3
           }
          ]
         }
        },
        {
         "name": "Subsidiary Currency Code_orig",
         "dtype": "object",
         "stats": {
          "unique_count": 3,
          "nan_count": 0,
          "categories": [
           {
            "name": "USD",
            "count": 3
           },
           {
            "name": "SEK",
            "count": 1
           },
           {
            "name": "EUR",
            "count": 1
           }
          ]
         }
        },
        {
         "name": "Subsidiary Is Active_orig",
         "dtype": "object",
         "stats": {
          "unique_count": 2,
          "nan_count": 0,
          "categories": [
           {
            "name": "No",
            "count": 3
           },
           {
            "name": "Yes",
            "count": 2
           }
          ]
         }
        },
        {
         "name": "NetSuite Subsidiary ID_orig",
         "dtype": "object",
         "stats": {
          "unique_count": 5,
          "nan_count": 0,
          "categories": [
           {
            "name": "54",
            "count": 1
           },
           {
            "name": "46",
            "count": 1
           },
           {
            "name": "3 others",
            "count": 3
           }
          ]
         }
        },
        {
         "name": "VAT Registration Number",
         "dtype": "object",
         "stats": {
          "unique_count": 1,
          "nan_count": 4,
          "categories": [
           {
            "name": "BE0848691897",
            "count": 1
           },
           {
            "name": "Missing",
            "count": 4
           }
          ]
         }
        },
        {
         "name": "Is Active_orig",
         "dtype": "object",
         "stats": {
          "unique_count": 2,
          "nan_count": 0,
          "categories": [
           {
            "name": "No",
            "count": 3
           },
           {
            "name": "Yes",
            "count": 2
           }
          ]
         }
        },
        {
         "name": "Is Elimination_orig",
         "dtype": "object",
         "stats": {
          "unique_count": 1,
          "nan_count": 0,
          "categories": [
           {
            "name": "No",
            "count": 5
           }
          ]
         }
        },
        {
         "name": "Subsidiary Region_orig",
         "dtype": "object",
         "stats": {
          "unique_count": 3,
          "nan_count": 1,
          "categories": [
           {
            "name": "Technologies",
            "count": 2
           },
           {
            "name": "2 others",
            "count": 2
           },
           {
            "name": "Missing",
            "count": 1
           }
          ]
         }
        },
        {
         "name": "Workday Subsidiary Name_orig",
         "dtype": "object",
         "stats": {
          "unique_count": 1,
          "nan_count": 4,
          "categories": [
           {
            "name": "Expressor Software Corporation",
            "count": 1
           },
           {
            "name": "Missing",
            "count": 4
           }
          ]
         }
        },
        {
         "name": "Is Attunity Subsidiary",
         "dtype": "object",
         "stats": {
          "unique_count": 2,
          "nan_count": 1,
          "categories": [
           {
            "name": "No",
            "count": 3
           },
           {
            "name": "Yes",
            "count": 1
           },
           {
            "name": "Missing",
            "count": 1
           }
          ]
         }
        },
        {
         "name": "Subsidiary",
         "dtype": "object",
         "stats": {
          "unique_count": 5,
          "nan_count": 0,
          "categories": [
           {
            "name": "Garcia Inc",
            "count": 1
           },
           {
            "name": "Hall-Harrington",
            "count": 1
           },
           {
            "name": "3 others",
            "count": 3
           }
          ]
         }
        },
        {
         "name": "%SubsidiaryCode",
         "dtype": "object",
         "stats": {
          "unique_count": 5,
          "nan_count": 0,
          "categories": [
           {
            "name": "764",
            "count": 1
           },
           {
            "name": "d2c",
            "count": 1
           },
           {
            "name": "3 others",
            "count": 3
           }
          ]
         }
        },
        {
         "name": "Subsidiary Legal Name",
         "dtype": "object",
         "stats": {
          "unique_count": 5,
          "nan_count": 0,
          "categories": [
           {
            "name": "Garcia Inc",
            "count": 1
           },
           {
            "name": "Hall-Harrington",
            "count": 1
           },
           {
            "name": "3 others",
            "count": 3
           }
          ]
         }
        },
        {
         "name": "Subsidiary Currency Code",
         "dtype": "object",
         "stats": {
          "unique_count": 4,
          "nan_count": 0,
          "categories": [
           {
            "name": "EUR",
            "count": 2
           },
           {
            "name": "JPY",
            "count": 1
           },
           {
            "name": "2 others",
            "count": 2
           }
          ]
         }
        },
        {
         "name": "Subsidiary Is Active",
         "dtype": "object",
         "stats": {
          "unique_count": 2,
          "nan_count": 0,
          "categories": [
           {
            "name": "No",
            "count": 3
           },
           {
            "name": "Yes",
            "count": 2
           }
          ]
         }
        },
        {
         "name": "NetSuite Subsidiary ID",
         "dtype": "object",
         "stats": {
          "unique_count": 5,
          "nan_count": 0,
          "categories": [
           {
            "name": "764",
            "count": 1
           },
           {
            "name": "d2c",
            "count": 1
           },
           {
            "name": "3 others",
            "count": 3
           }
          ]
         }
        },
        {
         "name": "Is Active",
         "dtype": "object",
         "stats": {
          "unique_count": 2,
          "nan_count": 0,
          "categories": [
           {
            "name": "No",
            "count": 3
           },
           {
            "name": "Yes",
            "count": 2
           }
          ]
         }
        },
        {
         "name": "Is Elimination",
         "dtype": "object",
         "stats": {
          "unique_count": 1,
          "nan_count": 0,
          "categories": [
           {
            "name": "No",
            "count": 5
           }
          ]
         }
        },
        {
         "name": "Subsidiary Region",
         "dtype": "object",
         "stats": {
          "unique_count": 2,
          "nan_count": 0,
          "categories": [
           {
            "name": "EMEA",
            "count": 4
           },
           {
            "name": "APAC",
            "count": 1
           }
          ]
         }
        },
        {
         "name": "Workday Subsidiary Name",
         "dtype": "object",
         "stats": {
          "unique_count": 5,
          "nan_count": 0,
          "categories": [
           {
            "name": "Garcia Inc",
            "count": 1
           },
           {
            "name": "Hall-Harrington",
            "count": 1
           },
           {
            "name": "3 others",
            "count": 3
           }
          ]
         }
        },
        {
         "name": "_deepnote_index_column",
         "dtype": "int64"
        }
       ],
       "rows": [
        {
         "Subsidiary_orig": "Qlik Foreign Parent AB - Do Not Use",
         "%SubsidiaryCode_orig": "NA1",
         "Subsidiary Legal Name_orig": "Qlik Foreign Parent AB - Do Not Use",
         "Subsidiary Currency Code_orig": "SEK",
         "Subsidiary Is Active_orig": "No",
         "NetSuite Subsidiary ID_orig": "54",
         "VAT Registration Number": "nan",
         "Is Active_orig": "No",
         "Is Elimination_orig": "No",
         "Subsidiary Region_orig": "nan",
         "Workday Subsidiary Name_orig": "nan",
         "Is Attunity Subsidiary": "nan",
         "Subsidiary": "Garcia Inc",
         "%SubsidiaryCode": "764",
         "Subsidiary Legal Name": "Garcia Inc",
         "Subsidiary Currency Code": "JPY",
         "Subsidiary Is Active": "No",
         "NetSuite Subsidiary ID": "764",
         "Is Active": "No",
         "Is Elimination": "No",
         "Subsidiary Region": "EMEA",
         "Workday Subsidiary Name": "Garcia Inc",
         "_deepnote_index_column": 0
        },
        {
         "Subsidiary_orig": "Expressor Software Corporation",
         "%SubsidiaryCode_orig": "EXP",
         "Subsidiary Legal Name_orig": "Expressor Software Corporation",
         "Subsidiary Currency Code_orig": "USD",
         "Subsidiary Is Active_orig": "No",
         "NetSuite Subsidiary ID_orig": "46",
         "VAT Registration Number": "nan",
         "Is Active_orig": "No",
         "Is Elimination_orig": "No",
         "Subsidiary Region_orig": "Americas",
         "Workday Subsidiary Name_orig": "Expressor Software Corporation",
         "Is Attunity Subsidiary": "No",
         "Subsidiary": "Hall-Harrington",
         "%SubsidiaryCode": "d2c",
         "Subsidiary Legal Name": "Hall-Harrington",
         "Subsidiary Currency Code": "EUR",
         "Subsidiary Is Active": "No",
         "NetSuite Subsidiary ID": "d2c",
         "Is Active": "No",
         "Is Elimination": "No",
         "Subsidiary Region": "EMEA",
         "Workday Subsidiary Name": "Hall-Harrington",
         "_deepnote_index_column": 1
        },
        {
         "Subsidiary_orig": "Purchase Price Adjustments",
         "%SubsidiaryCode_orig": "PPA",
         "Subsidiary Legal Name_orig": "Purchase Price Adjustments",
         "Subsidiary Currency Code_orig": "USD",
         "Subsidiary Is Active_orig": "Yes",
         "NetSuite Subsidiary ID_orig": "56",
         "VAT Registration Number": "nan",
         "Is Active_orig": "Yes",
         "Is Elimination_orig": "No",
         "Subsidiary Region_orig": "Technologies",
         "Workday Subsidiary Name_orig": "nan",
         "Is Attunity Subsidiary": "No",
         "Subsidiary": "Jarvis-Duran",
         "%SubsidiaryCode": "23d",
         "Subsidiary Legal Name": "Jarvis-Duran",
         "Subsidiary Currency Code": "EUR",
         "Subsidiary Is Active": "Yes",
         "NetSuite Subsidiary ID": "23d",
         "Is Active": "Yes",
         "Is Elimination": "No",
         "Subsidiary Region": "EMEA",
         "Workday Subsidiary Name": "Jarvis-Duran",
         "_deepnote_index_column": 2
        },
        {
         "Subsidiary_orig": "QlikTech Holdings Inc.",
         "%SubsidiaryCode_orig": "HOI",
         "Subsidiary Legal Name_orig": "QlikTech Holdings Inc.",
         "Subsidiary Currency Code_orig": "USD",
         "Subsidiary Is Active_orig": "Yes",
         "NetSuite Subsidiary ID_orig": "13",
         "VAT Registration Number": "nan",
         "Is Active_orig": "Yes",
         "Is Elimination_orig": "No",
         "Subsidiary Region_orig": "Technologies",
         "Workday Subsidiary Name_orig": "nan",
         "Is Attunity Subsidiary": "Yes",
         "Subsidiary": "Cole Ltd",
         "%SubsidiaryCode": "2ef",
         "Subsidiary Legal Name": "Cole Ltd",
         "Subsidiary Currency Code": "SGD",
         "Subsidiary Is Active": "Yes",
         "NetSuite Subsidiary ID": "2ef",
         "Is Active": "Yes",
         "Is Elimination": "No",
         "Subsidiary Region": "EMEA",
         "Workday Subsidiary Name": "Cole Ltd",
         "_deepnote_index_column": 3
        },
        {
         "Subsidiary_orig": "QlikTech Belgium",
         "%SubsidiaryCode_orig": "BEL",
         "Subsidiary Legal Name_orig": "QlikTech Belgium",
         "Subsidiary Currency Code_orig": "EUR",
         "Subsidiary Is Active_orig": "No",
         "NetSuite Subsidiary ID_orig": "5",
         "VAT Registration Number": "BE0848691897",
         "Is Active_orig": "No",
         "Is Elimination_orig": "No",
         "Subsidiary Region_orig": "EMEA",
         "Workday Subsidiary Name_orig": "nan",
         "Is Attunity Subsidiary": "No",
         "Subsidiary": "Nelson-Montoya",
         "%SubsidiaryCode": "87b",
         "Subsidiary Legal Name": "Nelson-Montoya",
         "Subsidiary Currency Code": "USD",
         "Subsidiary Is Active": "No",
         "NetSuite Subsidiary ID": "87b",
         "Is Active": "No",
         "Is Elimination": "No",
         "Subsidiary Region": "APAC",
         "Workday Subsidiary Name": "Nelson-Montoya",
         "_deepnote_index_column": 4
        }
       ]
      },
      "text/plain": "                       Subsidiary_orig %SubsidiaryCode_orig  \\\n0  Qlik Foreign Parent AB - Do Not Use                  NA1   \n1       Expressor Software Corporation                  EXP   \n2           Purchase Price Adjustments                  PPA   \n3               QlikTech Holdings Inc.                  HOI   \n4                     QlikTech Belgium                  BEL   \n\n            Subsidiary Legal Name_orig Subsidiary Currency Code_orig  \\\n0  Qlik Foreign Parent AB - Do Not Use                           SEK   \n1       Expressor Software Corporation                           USD   \n2           Purchase Price Adjustments                           USD   \n3               QlikTech Holdings Inc.                           USD   \n4                     QlikTech Belgium                           EUR   \n\n  Subsidiary Is Active_orig NetSuite Subsidiary ID_orig  \\\n0                        No                          54   \n1                        No                          46   \n2                       Yes                          56   \n3                       Yes                          13   \n4                        No                           5   \n\n  VAT Registration Number Is Active_orig Is Elimination_orig  \\\n0                     NaN             No                  No   \n1                     NaN             No                  No   \n2                     NaN            Yes                  No   \n3                     NaN            Yes                  No   \n4            BE0848691897             No                  No   \n\n  Subsidiary Region_orig  ...       Subsidiary %SubsidiaryCode  \\\n0                    NaN  ...       Garcia Inc             764   \n1               Americas  ...  Hall-Harrington             d2c   \n2           Technologies  ...     Jarvis-Duran             23d   \n3           Technologies  ...         Cole Ltd             2ef   \n4                   EMEA  ...   Nelson-Montoya             87b   \n\n  Subsidiary Legal Name Subsidiary Currency Code Subsidiary Is Active  \\\n0            Garcia Inc                      JPY                   No   \n1       Hall-Harrington                      EUR                   No   \n2          Jarvis-Duran                      EUR                  Yes   \n3              Cole Ltd                      SGD                  Yes   \n4        Nelson-Montoya                      USD                   No   \n\n  NetSuite Subsidiary ID Is Active Is Elimination Subsidiary Region  \\\n0                    764        No             No              EMEA   \n1                    d2c        No             No              EMEA   \n2                    23d       Yes             No              EMEA   \n3                    2ef       Yes             No              EMEA   \n4                    87b        No             No              APAC   \n\n  Workday Subsidiary Name  \n0              Garcia Inc  \n1         Hall-Harrington  \n2            Jarvis-Duran  \n3                Cole Ltd  \n4          Nelson-Montoya  \n\n[5 rows x 22 columns]",
      "text/html": "<div>\n<style scoped>\n    .dataframe tbody tr th:only-of-type {\n        vertical-align: middle;\n    }\n\n    .dataframe tbody tr th {\n        vertical-align: top;\n    }\n\n    .dataframe thead th {\n        text-align: right;\n    }\n</style>\n<table border=\"1\" class=\"dataframe\">\n  <thead>\n    <tr style=\"text-align: right;\">\n      <th></th>\n      <th>Subsidiary_orig</th>\n      <th>%SubsidiaryCode_orig</th>\n      <th>Subsidiary Legal Name_orig</th>\n      <th>Subsidiary Currency Code_orig</th>\n      <th>Subsidiary Is Active_orig</th>\n      <th>NetSuite Subsidiary ID_orig</th>\n      <th>VAT Registration Number</th>\n      <th>Is Active_orig</th>\n      <th>Is Elimination_orig</th>\n      <th>Subsidiary Region_orig</th>\n      <th>...</th>\n      <th>Subsidiary</th>\n      <th>%SubsidiaryCode</th>\n      <th>Subsidiary Legal Name</th>\n      <th>Subsidiary Currency Code</th>\n      <th>Subsidiary Is Active</th>\n      <th>NetSuite Subsidiary ID</th>\n      <th>Is Active</th>\n      <th>Is Elimination</th>\n      <th>Subsidiary Region</th>\n      <th>Workday Subsidiary Name</th>\n    </tr>\n  </thead>\n  <tbody>\n    <tr>\n      <th>0</th>\n      <td>Qlik Foreign Parent AB - Do Not Use</td>\n      <td>NA1</td>\n      <td>Qlik Foreign Parent AB - Do Not Use</td>\n      <td>SEK</td>\n      <td>No</td>\n      <td>54</td>\n      <td>NaN</td>\n      <td>No</td>\n      <td>No</td>\n      <td>NaN</td>\n      <td>...</td>\n      <td>Garcia Inc</td>\n      <td>764</td>\n      <td>Garcia Inc</td>\n      <td>JPY</td>\n      <td>No</td>\n      <td>764</td>\n      <td>No</td>\n      <td>No</td>\n      <td>EMEA</td>\n      <td>Garcia Inc</td>\n    </tr>\n    <tr>\n      <th>1</th>\n      <td>Expressor Software Corporation</td>\n      <td>EXP</td>\n      <td>Expressor Software Corporation</td>\n      <td>USD</td>\n      <td>No</td>\n      <td>46</td>\n      <td>NaN</td>\n      <td>No</td>\n      <td>No</td>\n      <td>Americas</td>\n      <td>...</td>\n      <td>Hall-Harrington</td>\n      <td>d2c</td>\n      <td>Hall-Harrington</td>\n      <td>EUR</td>\n      <td>No</td>\n      <td>d2c</td>\n      <td>No</td>\n      <td>No</td>\n      <td>EMEA</td>\n      <td>Hall-Harrington</td>\n    </tr>\n    <tr>\n      <th>2</th>\n      <td>Purchase Price Adjustments</td>\n      <td>PPA</td>\n      <td>Purchase Price Adjustments</td>\n      <td>USD</td>\n      <td>Yes</td>\n      <td>56</td>\n      <td>NaN</td>\n      <td>Yes</td>\n      <td>No</td>\n      <td>Technologies</td>\n      <td>...</td>\n      <td>Jarvis-Duran</td>\n      <td>23d</td>\n      <td>Jarvis-Duran</td>\n      <td>EUR</td>\n      <td>Yes</td>\n      <td>23d</td>\n      <td>Yes</td>\n      <td>No</td>\n      <td>EMEA</td>\n      <td>Jarvis-Duran</td>\n    </tr>\n    <tr>\n      <th>3</th>\n      <td>QlikTech Holdings Inc.</td>\n      <td>HOI</td>\n      <td>QlikTech Holdings Inc.</td>\n      <td>USD</td>\n      <td>Yes</td>\n      <td>13</td>\n      <td>NaN</td>\n      <td>Yes</td>\n      <td>No</td>\n      <td>Technologies</td>\n      <td>...</td>\n      <td>Cole Ltd</td>\n      <td>2ef</td>\n      <td>Cole Ltd</td>\n      <td>SGD</td>\n      <td>Yes</td>\n      <td>2ef</td>\n      <td>Yes</td>\n      <td>No</td>\n      <td>EMEA</td>\n      <td>Cole Ltd</td>\n    </tr>\n    <tr>\n      <th>4</th>\n      <td>QlikTech Belgium</td>\n      <td>BEL</td>\n      <td>QlikTech Belgium</td>\n      <td>EUR</td>\n      <td>No</td>\n      <td>5</td>\n      <td>BE0848691897</td>\n      <td>No</td>\n      <td>No</td>\n      <td>EMEA</td>\n      <td>...</td>\n      <td>Nelson-Montoya</td>\n      <td>87b</td>\n      <td>Nelson-Montoya</td>\n      <td>USD</td>\n      <td>No</td>\n      <td>87b</td>\n      <td>No</td>\n      <td>No</td>\n      <td>APAC</td>\n      <td>Nelson-Montoya</td>\n    </tr>\n  </tbody>\n</table>\n<p>5 rows × 22 columns</p>\n</div>"
     },
     "metadata": {}
    }
   ]
  },
  {
   "cell_type": "code",
   "metadata": {
    "cell_id": "bc9e4a8e8fcd4c31b890e6bb5cd41947",
    "tags": [],
    "deepnote_to_be_reexecuted": false,
    "source_hash": "ada2865b",
    "execution_start": 1658856988522,
    "execution_millis": 1647,
    "deepnote_cell_type": "code",
    "deepnote_cell_height": 99
   },
   "source": "df_subsidiaries.to_csv(source_path+'full_subsidiaries.csv',index=False)\ndf_subsidiaries = anon_subsidiaries=df_subsidiaries_anon=[]",
   "execution_count": null,
   "outputs": []
  },
  {
   "cell_type": "markdown",
   "source": "## AR Comments",
   "metadata": {
    "formattedRanges": [],
    "cell_id": "8d028d302f8e42218c6e022d56c7d8f6",
    "tags": [],
    "is_collapsed": false,
    "deepnote_cell_type": "text-cell-h2"
   }
  },
  {
   "cell_type": "code",
   "metadata": {
    "cell_id": "ca58cf872b374a0aaa222f06f1f768fb",
    "tags": [],
    "deepnote_to_be_reexecuted": false,
    "source_hash": "76513b78",
    "execution_start": 1658826136106,
    "execution_millis": 1253,
    "deepnote_cell_type": "code",
    "deepnote_cell_height": 449
   },
   "source": "df_comments = pd.read_csv(source_path+'AR_Comments.csv',nrows=100000)\ndf_comments[['comment_date','comment_text']]=df_comments['%ARCommentKey'].str.split('|',expand=True,n=1)\ndf_comments['comment_date']=pd.to_datetime(df_comments['comment_date']).dt.date\ndf_comments.head()",
   "execution_count": null,
   "outputs": [
    {
     "output_type": "execute_result",
     "execution_count": 28,
     "data": {
      "application/vnd.deepnote.dataframe.v3+json": {
       "column_count": 4,
       "row_count": 5,
       "columns": [
        {
         "name": "%ARCommentKey",
         "dtype": "object",
         "stats": {
          "unique_count": 5,
          "nan_count": 0,
          "categories": [
           {
            "name": "1/1/2019|230569 PT. Evotech Distribusi",
            "count": 1
           },
           {
            "name": "1/1/2019|230572 IDW2- IntegraÃ§Ã£o e Desenvolvimento, Lda.",
            "count": 1
           },
           {
            "name": "3 others",
            "count": 3
           }
          ]
         }
        },
        {
         "name": "AR Comments",
         "dtype": "object",
         "stats": {
          "unique_count": 4,
          "nan_count": 1,
          "categories": [
           {
            "name": "12/31/18-VÃ­ctor- (renewal). End user informed contract cancellation out of date.",
            "count": 1
           },
           {
            "name": "3 others",
            "count": 3
           },
           {
            "name": "Missing",
            "count": 1
           }
          ]
         }
        },
        {
         "name": "comment_date",
         "dtype": "object",
         "stats": {
          "unique_count": 1,
          "nan_count": 0,
          "categories": [
           {
            "name": "2019-01-01",
            "count": 5
           }
          ]
         }
        },
        {
         "name": "comment_text",
         "dtype": "object",
         "stats": {
          "unique_count": 5,
          "nan_count": 0,
          "categories": [
           {
            "name": "230569 PT. Evotech Distribusi",
            "count": 1
           },
           {
            "name": "230572 IDW2- IntegraÃ§Ã£o e Desenvolvimento, Lda.",
            "count": 1
           },
           {
            "name": "3 others",
            "count": 3
           }
          ]
         }
        },
        {
         "name": "_deepnote_index_column",
         "dtype": "int64"
        }
       ],
       "rows": [
        {
         "%ARCommentKey": "1/1/2019|230569 PT. Evotech Distribusi",
         "AR Comments": "nan",
         "comment_date": "2019-01-01",
         "comment_text": "230569 PT. Evotech Distribusi",
         "_deepnote_index_column": 0
        },
        {
         "%ARCommentKey": "1/1/2019|230572 IDW2- IntegraÃ§Ã£o e Desenvolvimento, Lda.",
         "AR Comments": "12/31/18-VÃ­ctor- (renewal). End user informed contract cancellation out of date.",
         "comment_date": "2019-01-01",
         "comment_text": "230572 IDW2- IntegraÃ§Ã£o e Desenvolvimento, Lda.",
         "_deepnote_index_column": 1
        },
        {
         "%ARCommentKey": "1/1/2019|230578 BUSINESS & DECISION FRANCE",
         "AR Comments": "13/12 FM O/S in should be paid by EOM",
         "comment_date": "2019-01-01",
         "comment_text": "230578 BUSINESS & DECISION FRANCE",
         "_deepnote_index_column": 2
        },
        {
         "%ARCommentKey": "1/1/2019|230582 PT Mitra Integrasi Informatika",
         "AR Comments": "20/Aug/18 Vivien: Indomarco MA $1.8K - Invoice has been processed for payment, Iwan will confirm on 20/8 the payment date",
         "comment_date": "2019-01-01",
         "comment_text": "230582 PT Mitra Integrasi Informatika",
         "_deepnote_index_column": 3
        },
        {
         "%ARCommentKey": "1/1/2019|230583 SSL Software Systems LLC",
         "AR Comments": "21/12/2018 JIE//, renewal. Partner conf.   will be provided PO by end user within a week (inv14684)",
         "comment_date": "2019-01-01",
         "comment_text": "230583 SSL Software Systems LLC",
         "_deepnote_index_column": 4
        }
       ]
      },
      "text/plain": "                                       %ARCommentKey  \\\n0             1/1/2019|230569 PT. Evotech Distribusi   \n1  1/1/2019|230572 IDW2- IntegraÃ§Ã£o e Desenvolv...   \n2         1/1/2019|230578 BUSINESS & DECISION FRANCE   \n3     1/1/2019|230582 PT Mitra Integrasi Informatika   \n4           1/1/2019|230583 SSL Software Systems LLC   \n\n                                         AR Comments comment_date  \\\n0                                                NaN   2019-01-01   \n1  12/31/18-VÃ­ctor- (renewal). End user informed...   2019-01-01   \n2              13/12 FM O/S in should be paid by EOM   2019-01-01   \n3  20/Aug/18 Vivien: Indomarco MA $1.8K - Invoice...   2019-01-01   \n4  21/12/2018 JIE//, renewal. Partner conf.   wil...   2019-01-01   \n\n                                        comment_text  \n0                      230569 PT. Evotech Distribusi  \n1  230572 IDW2- IntegraÃ§Ã£o e Desenvolvimento, Lda.  \n2                  230578 BUSINESS & DECISION FRANCE  \n3              230582 PT Mitra Integrasi Informatika  \n4                    230583 SSL Software Systems LLC  ",
      "text/html": "<div>\n<style scoped>\n    .dataframe tbody tr th:only-of-type {\n        vertical-align: middle;\n    }\n\n    .dataframe tbody tr th {\n        vertical-align: top;\n    }\n\n    .dataframe thead th {\n        text-align: right;\n    }\n</style>\n<table border=\"1\" class=\"dataframe\">\n  <thead>\n    <tr style=\"text-align: right;\">\n      <th></th>\n      <th>%ARCommentKey</th>\n      <th>AR Comments</th>\n      <th>comment_date</th>\n      <th>comment_text</th>\n    </tr>\n  </thead>\n  <tbody>\n    <tr>\n      <th>0</th>\n      <td>1/1/2019|230569 PT. Evotech Distribusi</td>\n      <td>NaN</td>\n      <td>2019-01-01</td>\n      <td>230569 PT. Evotech Distribusi</td>\n    </tr>\n    <tr>\n      <th>1</th>\n      <td>1/1/2019|230572 IDW2- IntegraÃ§Ã£o e Desenvolv...</td>\n      <td>12/31/18-VÃ­ctor- (renewal). End user informed...</td>\n      <td>2019-01-01</td>\n      <td>230572 IDW2- IntegraÃ§Ã£o e Desenvolvimento, Lda.</td>\n    </tr>\n    <tr>\n      <th>2</th>\n      <td>1/1/2019|230578 BUSINESS &amp; DECISION FRANCE</td>\n      <td>13/12 FM O/S in should be paid by EOM</td>\n      <td>2019-01-01</td>\n      <td>230578 BUSINESS &amp; DECISION FRANCE</td>\n    </tr>\n    <tr>\n      <th>3</th>\n      <td>1/1/2019|230582 PT Mitra Integrasi Informatika</td>\n      <td>20/Aug/18 Vivien: Indomarco MA $1.8K - Invoice...</td>\n      <td>2019-01-01</td>\n      <td>230582 PT Mitra Integrasi Informatika</td>\n    </tr>\n    <tr>\n      <th>4</th>\n      <td>1/1/2019|230583 SSL Software Systems LLC</td>\n      <td>21/12/2018 JIE//, renewal. Partner conf.   wil...</td>\n      <td>2019-01-01</td>\n      <td>230583 SSL Software Systems LLC</td>\n    </tr>\n  </tbody>\n</table>\n</div>"
     },
     "metadata": {}
    }
   ]
  },
  {
   "cell_type": "code",
   "metadata": {
    "cell_id": "c9c773073b194b46935f4deecd9e53c8",
    "tags": [],
    "deepnote_to_be_reexecuted": false,
    "source_hash": "bb375557",
    "execution_start": 1658826236506,
    "execution_millis": 595,
    "deepnote_cell_type": "code",
    "deepnote_cell_height": 330
   },
   "source": "anon_comments=dfAnonymizer(df_comments)\nanon_comments.info()",
   "execution_count": null,
   "outputs": [
    {
     "name": "stdout",
     "text": "+---------------+--------+-------------+--------+\n|    Column     | Status |    Type     | Method |\n+===============+========+=============+========+\n| %ARCommentKey | 0      | categorical |        |\n+---------------+--------+-------------+--------+\n| AR Comments   | 0      | categorical |        |\n+---------------+--------+-------------+--------+\n| comment_date  | 0      | categorical |        |\n+---------------+--------+-------------+--------+\n| comment_text  | 0      | categorical |        |\n+---------------+--------+-------------+--------+\n",
     "output_type": "stream"
    }
   ]
  },
  {
   "cell_type": "code",
   "metadata": {
    "cell_id": "424233384ee140228d8df05b0ac3b74d",
    "tags": [],
    "deepnote_to_be_reexecuted": false,
    "source_hash": "e7d01cef",
    "execution_start": 1658826238599,
    "execution_millis": 376,
    "deepnote_cell_type": "code",
    "deepnote_cell_height": 207
   },
   "source": "anon_comments.column_suppression(['comment_text'])\nanon_comments.categorical_tokenization(['%ARCommentKey'],max_token_len=10)\nanon_comments.datetime_noise('comment_date')\n\ndf_comments_anon=anon_comments.to_df()\ndf_comments_anon['AR Comments']=df_comments_anon['AR Comments'].apply(lambda x:0 if pd.isna(x) else 1)\n\n",
   "execution_count": null,
   "outputs": []
  },
  {
   "cell_type": "code",
   "metadata": {
    "cell_id": "f92260a7c65844be995562958758a901",
    "tags": [],
    "deepnote_to_be_reexecuted": false,
    "source_hash": "e5b7b919",
    "execution_start": 1658826208704,
    "execution_millis": 152,
    "deepnote_cell_type": "code",
    "deepnote_cell_height": 615
   },
   "source": "df_comments.join(df_comments_anon,how='inner',lsuffix='_orig')",
   "execution_count": null,
   "outputs": [
    {
     "output_type": "execute_result",
     "execution_count": 31,
     "data": {
      "application/vnd.deepnote.dataframe.v3+json": {
       "column_count": 7,
       "row_count": 100000,
       "columns": [
        {
         "name": "%ARCommentKey_orig",
         "dtype": "object",
         "stats": {
          "unique_count": 100000,
          "nan_count": 0,
          "categories": [
           {
            "name": "1/1/2019|230569 PT. Evotech Distribusi",
            "count": 1
           },
           {
            "name": "1/1/2019|230572 IDW2- IntegraÃ§Ã£o e Desenvolvimento, Lda.",
            "count": 1
           },
           {
            "name": "99998 others",
            "count": 99998
           }
          ]
         }
        },
        {
         "name": "AR Comments_orig",
         "dtype": "object"
        },
        {
         "name": "comment_date_orig",
         "dtype": "object"
        },
        {
         "name": "comment_text",
         "dtype": "object"
        },
        {
         "name": "%ARCommentKey",
         "dtype": "object"
        },
        {
         "name": "AR Comments",
         "dtype": "int64"
        },
        {
         "name": "comment_date",
         "dtype": "object"
        },
        {
         "name": "_deepnote_index_column",
         "dtype": "int64"
        }
       ],
       "rows": [
        {
         "%ARCommentKey_orig": "1/1/2019|230569 PT. Evotech Distribusi",
         "AR Comments_orig": "nan",
         "comment_date_orig": "2019-01-01",
         "comment_text": "230569 PT. Evotech Distribusi",
         "%ARCommentKey": "af485a2c7d",
         "AR Comments": 0,
         "comment_date": "2018-07-05",
         "_deepnote_index_column": 0
        },
        {
         "%ARCommentKey_orig": "1/1/2019|230572 IDW2- IntegraÃ§Ã£o e Desenvolvimento, Lda.",
         "AR Comments_orig": "12/31/18-VÃ­ctor- (renewal). End user informed contract cancellation out of date.",
         "comment_date_orig": "2019-01-01",
         "comment_text": "230572 IDW2- IntegraÃ§Ã£o e Desenvolvimento, Lda.",
         "%ARCommentKey": "b8399ff8b7",
         "AR Comments": 1,
         "comment_date": "2019-02-04",
         "_deepnote_index_column": 1
        },
        {
         "%ARCommentKey_orig": "1/1/2019|230578 BUSINESS & DECISION FRANCE",
         "AR Comments_orig": "13/12 FM O/S in should be paid by EOM",
         "comment_date_orig": "2019-01-01",
         "comment_text": "230578 BUSINESS & DECISION FRANCE",
         "%ARCommentKey": "75749424f1",
         "AR Comments": 1,
         "comment_date": "2019-03-03",
         "_deepnote_index_column": 2
        },
        {
         "%ARCommentKey_orig": "1/1/2019|230582 PT Mitra Integrasi Informatika",
         "AR Comments_orig": "20/Aug/18 Vivien: Indomarco MA $1.8K - Invoice has been processed for payment, Iwan will confirm on 20/8 the payment date",
         "comment_date_orig": "2019-01-01",
         "comment_text": "230582 PT Mitra Integrasi Informatika",
         "%ARCommentKey": "d91d1c8d6a",
         "AR Comments": 1,
         "comment_date": "2018-07-06",
         "_deepnote_index_column": 3
        },
        {
         "%ARCommentKey_orig": "1/1/2019|230583 SSL Software Systems LLC",
         "AR Comments_orig": "21/12/2018 JIE//, renewal. Partner conf.   will be provided PO by end user within a week (inv14684)",
         "comment_date_orig": "2019-01-01",
         "comment_text": "230583 SSL Software Systems LLC",
         "%ARCommentKey": "9eff63ed28",
         "AR Comments": 1,
         "comment_date": "2019-07-26",
         "_deepnote_index_column": 4
        },
        {
         "%ARCommentKey_orig": "1/1/2019|230584 Gesundheitsforen Leipzig GmbH",
         "AR Comments_orig": "nan",
         "comment_date_orig": "2019-01-01",
         "comment_text": "230584 Gesundheitsforen Leipzig GmbH",
         "%ARCommentKey": "e41e9df0e8",
         "AR Comments": 0,
         "comment_date": "2018-05-01",
         "_deepnote_index_column": 5
        },
        {
         "%ARCommentKey_orig": "1/1/2019|230590 Rise Health (OEM)",
         "AR Comments_orig": "Gab 8/21/2018 (License): Requested payment status for overdue invoices.",
         "comment_date_orig": "2019-01-01",
         "comment_text": "230590 Rise Health (OEM)",
         "%ARCommentKey": "9bd9464abe",
         "AR Comments": 1,
         "comment_date": "2018-12-01",
         "_deepnote_index_column": 6
        },
        {
         "%ARCommentKey_orig": "1/1/2019|230593 CareLogistics",
         "AR Comments_orig": "nan",
         "comment_date_orig": "2019-01-01",
         "comment_text": "230593 CareLogistics",
         "%ARCommentKey": "2ab789d1a3",
         "AR Comments": 0,
         "comment_date": "2019-01-03",
         "_deepnote_index_column": 7
        },
        {
         "%ARCommentKey_orig": "1/1/2019|230597 Victa B.V.",
         "AR Comments_orig": "18/12  RH  Chasing.",
         "comment_date_orig": "2019-01-01",
         "comment_text": "230597 Victa B.V.",
         "%ARCommentKey": "115aeb1e80",
         "AR Comments": 1,
         "comment_date": "2018-11-02",
         "_deepnote_index_column": 8
        },
        {
         "%ARCommentKey_orig": "1/1/2019|230599 YSANCE",
         "AR Comments_orig": "18.12 FM Chased 24405",
         "comment_date_orig": "2019-01-01",
         "comment_text": "230599 YSANCE",
         "%ARCommentKey": "108c01d44b",
         "AR Comments": 1,
         "comment_date": "2019-06-28",
         "_deepnote_index_column": 9
        }
       ]
      },
      "text/plain": "                                      %ARCommentKey_orig  \\\n0                 1/1/2019|230569 PT. Evotech Distribusi   \n1      1/1/2019|230572 IDW2- IntegraÃ§Ã£o e Desenvolv...   \n2             1/1/2019|230578 BUSINESS & DECISION FRANCE   \n3         1/1/2019|230582 PT Mitra Integrasi Informatika   \n4               1/1/2019|230583 SSL Software Systems LLC   \n...                                                  ...   \n99995               1/15/2021|358948 Jeppesen Systems AB   \n99996           1/15/2021|359024 StraightForward Methods   \n99997  1/15/2021|359085 Inovyo InteligeÌ‚ncia de Merc...   \n99998            1/15/2021|359096 DBS BANK INDIA LIMITED   \n99999            1/15/2021|359106 DBS Bank Indonesia, PT   \n\n                                        AR Comments_orig comment_date_orig  \\\n0                                                    NaN        2019-01-01   \n1      12/31/18-VÃ­ctor- (renewal). End user informed...        2019-01-01   \n2                  13/12 FM O/S in should be paid by EOM        2019-01-01   \n3      20/Aug/18 Vivien: Indomarco MA $1.8K - Invoice...        2019-01-01   \n4      21/12/2018 JIE//, renewal. Partner conf.   wil...        2019-01-01   \n...                                                  ...               ...   \n99995                                                NaN        2021-01-15   \n99996  11/24/2020 Dana Customer is up to date at this...        2021-01-15   \n99997  11/24/2020 Francisco- Demand Letter sent (cure...        2021-01-15   \n99998  Jan. 13 Ning Renewal INVIND202100526: Expect t...        2021-01-15   \n99999  Dec 29 Ning Renewal INVSING00006806: PO receiv...        2021-01-15   \n\n                                            comment_text %ARCommentKey  \\\n0                          230569 PT. Evotech Distribusi    af485a2c7d   \n1      230572 IDW2- IntegraÃ§Ã£o e Desenvolvimento, Lda.    b8399ff8b7   \n2                      230578 BUSINESS & DECISION FRANCE    75749424f1   \n3                  230582 PT Mitra Integrasi Informatika    d91d1c8d6a   \n4                        230583 SSL Software Systems LLC    9eff63ed28   \n...                                                  ...           ...   \n99995                         358948 Jeppesen Systems AB    0297d0c625   \n99996                     359024 StraightForward Methods    0b01897868   \n99997       359085 Inovyo InteligeÌ‚ncia de Mercado LTDA    9636e1a274   \n99998                      359096 DBS BANK INDIA LIMITED    a1b181465a   \n99999                      359106 DBS Bank Indonesia, PT    960bba3ad7   \n\n       AR Comments comment_date  \n0                0   2018-07-05  \n1                1   2019-02-04  \n2                1   2019-03-03  \n3                1   2018-07-06  \n4                1   2019-07-26  \n...            ...          ...  \n99995            0   2021-02-17  \n99996            1   2020-03-23  \n99997            1   2020-06-17  \n99998            1   2021-02-16  \n99999            1   2021-07-18  \n\n[100000 rows x 7 columns]",
      "text/html": "<div>\n<style scoped>\n    .dataframe tbody tr th:only-of-type {\n        vertical-align: middle;\n    }\n\n    .dataframe tbody tr th {\n        vertical-align: top;\n    }\n\n    .dataframe thead th {\n        text-align: right;\n    }\n</style>\n<table border=\"1\" class=\"dataframe\">\n  <thead>\n    <tr style=\"text-align: right;\">\n      <th></th>\n      <th>%ARCommentKey_orig</th>\n      <th>AR Comments_orig</th>\n      <th>comment_date_orig</th>\n      <th>comment_text</th>\n      <th>%ARCommentKey</th>\n      <th>AR Comments</th>\n      <th>comment_date</th>\n    </tr>\n  </thead>\n  <tbody>\n    <tr>\n      <th>0</th>\n      <td>1/1/2019|230569 PT. Evotech Distribusi</td>\n      <td>NaN</td>\n      <td>2019-01-01</td>\n      <td>230569 PT. Evotech Distribusi</td>\n      <td>af485a2c7d</td>\n      <td>0</td>\n      <td>2018-07-05</td>\n    </tr>\n    <tr>\n      <th>1</th>\n      <td>1/1/2019|230572 IDW2- IntegraÃ§Ã£o e Desenvolv...</td>\n      <td>12/31/18-VÃ­ctor- (renewal). End user informed...</td>\n      <td>2019-01-01</td>\n      <td>230572 IDW2- IntegraÃ§Ã£o e Desenvolvimento, Lda.</td>\n      <td>b8399ff8b7</td>\n      <td>1</td>\n      <td>2019-02-04</td>\n    </tr>\n    <tr>\n      <th>2</th>\n      <td>1/1/2019|230578 BUSINESS &amp; DECISION FRANCE</td>\n      <td>13/12 FM O/S in should be paid by EOM</td>\n      <td>2019-01-01</td>\n      <td>230578 BUSINESS &amp; DECISION FRANCE</td>\n      <td>75749424f1</td>\n      <td>1</td>\n      <td>2019-03-03</td>\n    </tr>\n    <tr>\n      <th>3</th>\n      <td>1/1/2019|230582 PT Mitra Integrasi Informatika</td>\n      <td>20/Aug/18 Vivien: Indomarco MA $1.8K - Invoice...</td>\n      <td>2019-01-01</td>\n      <td>230582 PT Mitra Integrasi Informatika</td>\n      <td>d91d1c8d6a</td>\n      <td>1</td>\n      <td>2018-07-06</td>\n    </tr>\n    <tr>\n      <th>4</th>\n      <td>1/1/2019|230583 SSL Software Systems LLC</td>\n      <td>21/12/2018 JIE//, renewal. Partner conf.   wil...</td>\n      <td>2019-01-01</td>\n      <td>230583 SSL Software Systems LLC</td>\n      <td>9eff63ed28</td>\n      <td>1</td>\n      <td>2019-07-26</td>\n    </tr>\n    <tr>\n      <th>...</th>\n      <td>...</td>\n      <td>...</td>\n      <td>...</td>\n      <td>...</td>\n      <td>...</td>\n      <td>...</td>\n      <td>...</td>\n    </tr>\n    <tr>\n      <th>99995</th>\n      <td>1/15/2021|358948 Jeppesen Systems AB</td>\n      <td>NaN</td>\n      <td>2021-01-15</td>\n      <td>358948 Jeppesen Systems AB</td>\n      <td>0297d0c625</td>\n      <td>0</td>\n      <td>2021-02-17</td>\n    </tr>\n    <tr>\n      <th>99996</th>\n      <td>1/15/2021|359024 StraightForward Methods</td>\n      <td>11/24/2020 Dana Customer is up to date at this...</td>\n      <td>2021-01-15</td>\n      <td>359024 StraightForward Methods</td>\n      <td>0b01897868</td>\n      <td>1</td>\n      <td>2020-03-23</td>\n    </tr>\n    <tr>\n      <th>99997</th>\n      <td>1/15/2021|359085 Inovyo InteligeÌ‚ncia de Merc...</td>\n      <td>11/24/2020 Francisco- Demand Letter sent (cure...</td>\n      <td>2021-01-15</td>\n      <td>359085 Inovyo InteligeÌ‚ncia de Mercado LTDA</td>\n      <td>9636e1a274</td>\n      <td>1</td>\n      <td>2020-06-17</td>\n    </tr>\n    <tr>\n      <th>99998</th>\n      <td>1/15/2021|359096 DBS BANK INDIA LIMITED</td>\n      <td>Jan. 13 Ning Renewal INVIND202100526: Expect t...</td>\n      <td>2021-01-15</td>\n      <td>359096 DBS BANK INDIA LIMITED</td>\n      <td>a1b181465a</td>\n      <td>1</td>\n      <td>2021-02-16</td>\n    </tr>\n    <tr>\n      <th>99999</th>\n      <td>1/15/2021|359106 DBS Bank Indonesia, PT</td>\n      <td>Dec 29 Ning Renewal INVSING00006806: PO receiv...</td>\n      <td>2021-01-15</td>\n      <td>359106 DBS Bank Indonesia, PT</td>\n      <td>960bba3ad7</td>\n      <td>1</td>\n      <td>2021-07-18</td>\n    </tr>\n  </tbody>\n</table>\n<p>100000 rows × 7 columns</p>\n</div>"
     },
     "metadata": {}
    }
   ]
  },
  {
   "cell_type": "code",
   "metadata": {
    "cell_id": "893fc51a6a224a73bfe7c10cb2150257",
    "tags": [],
    "deepnote_to_be_reexecuted": false,
    "source_hash": "7d751595",
    "execution_start": 1658826433992,
    "execution_millis": 0,
    "deepnote_cell_type": "code",
    "deepnote_cell_height": 81
   },
   "source": "df_comments=df_comments_anon=[]",
   "execution_count": null,
   "outputs": []
  },
  {
   "cell_type": "markdown",
   "source": "## DSO",
   "metadata": {
    "formattedRanges": [],
    "cell_id": "bd2c184cc4724acb8fcfc66645fe7359",
    "tags": [],
    "is_collapsed": false,
    "deepnote_cell_type": "text-cell-h2"
   }
  },
  {
   "cell_type": "code",
   "metadata": {
    "cell_id": "423aeae999d44af2a9b057d4af26e88b",
    "tags": [],
    "deepnote_to_be_reexecuted": false,
    "source_hash": "5166c842",
    "execution_start": 1658866526326,
    "execution_millis": 354,
    "deepnote_cell_type": "code",
    "deepnote_cell_height": 482
   },
   "source": "df_dso = pd.read_csv(source_path+'AR_DSO.csv')\ndf_dso['NetSuite Extract DateTime']=pd.to_datetime(df_dso['NetSuite Extract DateTime'])\ndf_dso[['period','subsidiary_code']]=df_dso['%DSOKey'].str.split('|',expand=True)\ndf_dso['period']=pd.to_datetime(df_dso['period'])\ndf_dso.head()",
   "execution_count": null,
   "outputs": [
    {
     "output_type": "execute_result",
     "execution_count": 88,
     "data": {
      "application/vnd.deepnote.dataframe.v3+json": {
       "column_count": 8,
       "row_count": 5,
       "columns": [
        {
         "name": "NetSuite Extract DateTime",
         "dtype": "datetime64[ns]",
         "stats": {
          "unique_count": 1,
          "nan_count": 0,
          "min": "2022-04-06 02:27:59",
          "max": "2022-04-06 02:27:59",
          "histogram": null
         }
        },
        {
         "name": "Transaction Line Amount - Local",
         "dtype": "float64",
         "stats": {
          "unique_count": 5,
          "nan_count": 0,
          "min": "-15024.3",
          "max": "3915833.96",
          "histogram": [
           {
            "bin_start": -15024.3,
            "bin_end": 378061.526,
            "count": 1
           },
           {
            "bin_start": 378061.526,
            "bin_end": 771147.352,
            "count": 0
           },
           {
            "bin_start": 771147.352,
            "bin_end": 1164233.178,
            "count": 0
           },
           {
            "bin_start": 1164233.178,
            "bin_end": 1557319.004,
            "count": 0
           },
           {
            "bin_start": 1557319.004,
            "bin_end": 1950404.8299999998,
            "count": 0
           },
           {
            "bin_start": 1950404.8299999998,
            "bin_end": 2343490.6560000004,
            "count": 1
           },
           {
            "bin_start": 2343490.6560000004,
            "bin_end": 2736576.4820000003,
            "count": 0
           },
           {
            "bin_start": 2736576.4820000003,
            "bin_end": 3129662.308,
            "count": 1
           },
           {
            "bin_start": 3129662.308,
            "bin_end": 3522748.134,
            "count": 0
           },
           {
            "bin_start": 3522748.134,
            "bin_end": 3915833.96,
            "count": 2
           }
          ]
         }
        },
        {
         "name": "Transaction Line Amount - USD",
         "dtype": "float64",
         "stats": {
          "unique_count": 5,
          "nan_count": 0,
          "min": "-16827.216",
          "max": "4430556.8186039",
          "histogram": [
           {
            "bin_start": -16827.216,
            "bin_end": 427911.18746039004,
            "count": 2
           },
           {
            "bin_start": 427911.18746039004,
            "bin_end": 872649.5909207801,
            "count": 0
           },
           {
            "bin_start": 872649.5909207801,
            "bin_end": 1317387.9943811703,
            "count": 0
           },
           {
            "bin_start": 1317387.9943811703,
            "bin_end": 1762126.3978415602,
            "count": 0
           },
           {
            "bin_start": 1762126.3978415602,
            "bin_end": 2206864.80130195,
            "count": 0
           },
           {
            "bin_start": 2206864.80130195,
            "bin_end": 2651603.2047623405,
            "count": 0
           },
           {
            "bin_start": 2651603.2047623405,
            "bin_end": 3096341.6082227305,
            "count": 0
           },
           {
            "bin_start": 3096341.6082227305,
            "bin_end": 3541080.0116831204,
            "count": 1
           },
           {
            "bin_start": 3541080.0116831204,
            "bin_end": 3985818.4151435103,
            "count": 0
           },
           {
            "bin_start": 3985818.4151435103,
            "bin_end": 4430556.8186039,
            "count": 2
           }
          ]
         }
        },
        {
         "name": "%DSOKey",
         "dtype": "object",
         "stats": {
          "unique_count": 5,
          "nan_count": 0,
          "categories": [
           {
            "name": "2022-01|FRA",
            "count": 1
           },
           {
            "name": "2022-04|FRA",
            "count": 1
           },
           {
            "name": "3 others",
            "count": 3
           }
          ]
         }
        },
        {
         "name": "DSO Amount Type",
         "dtype": "object",
         "stats": {
          "unique_count": 1,
          "nan_count": 0,
          "categories": [
           {
            "name": "Revenue",
            "count": 5
           }
          ]
         }
        },
        {
         "name": "From Currency Code",
         "dtype": "object",
         "stats": {
          "unique_count": 0,
          "nan_count": 5,
          "categories": [
           {
            "name": "Missing",
            "count": 5
           }
          ]
         }
        },
        {
         "name": "period",
         "dtype": "datetime64[ns]",
         "stats": {
          "unique_count": 4,
          "nan_count": 0,
          "min": "2022-01-01 00:00:00",
          "max": "2022-04-01 00:00:00",
          "histogram": [
           {
            "bin_start": 1640995200000000000,
            "bin_end": 1641772800000000000,
            "count": 1
           },
           {
            "bin_start": 1641772800000000000,
            "bin_end": 1642550400000000000,
            "count": 0
           },
           {
            "bin_start": 1642550400000000000,
            "bin_end": 1643328000000000000,
            "count": 0
           },
           {
            "bin_start": 1643328000000000000,
            "bin_end": 1644105600000000000,
            "count": 1
           },
           {
            "bin_start": 1644105600000000000,
            "bin_end": 1644883200000000000,
            "count": 0
           },
           {
            "bin_start": 1644883200000000000,
            "bin_end": 1645660800000000000,
            "count": 0
           },
           {
            "bin_start": 1645660800000000000,
            "bin_end": 1646438400000000000,
            "count": 2
           },
           {
            "bin_start": 1646438400000000000,
            "bin_end": 1647216000000000000,
            "count": 0
           },
           {
            "bin_start": 1647216000000000000,
            "bin_end": 1647993600000000000,
            "count": 0
           },
           {
            "bin_start": 1647993600000000000,
            "bin_end": 1648771200000000000,
            "count": 1
           }
          ]
         }
        },
        {
         "name": "subsidiary_code",
         "dtype": "object",
         "stats": {
          "unique_count": 2,
          "nan_count": 0,
          "categories": [
           {
            "name": "FRA",
            "count": 4
           },
           {
            "name": "DMK",
            "count": 1
           }
          ]
         }
        },
        {
         "name": "_deepnote_index_column",
         "dtype": "int64"
        }
       ],
       "rows": [
        {
         "NetSuite Extract DateTime": "2022-04-06T02:27:59.000000",
         "Transaction Line Amount - Local": 3912778.8,
         "Transaction Line Amount - USD": 4430556.8186039,
         "%DSOKey": "2022-01|FRA",
         "DSO Amount Type": "Revenue",
         "From Currency Code": "nan",
         "period": "2022-01-01T00:00:00.000000",
         "subsidiary_code": "FRA",
         "_deepnote_index_column": 0
        },
        {
         "NetSuite Extract DateTime": "2022-04-06T02:27:59.000000",
         "Transaction Line Amount - Local": -15024.3,
         "Transaction Line Amount - USD": -16827.216,
         "%DSOKey": "2022-04|FRA",
         "DSO Amount Type": "Revenue",
         "From Currency Code": "nan",
         "period": "2022-04-01T00:00:00.000000",
         "subsidiary_code": "FRA",
         "_deepnote_index_column": 1
        },
        {
         "NetSuite Extract DateTime": "2022-04-06T02:27:59.000000",
         "Transaction Line Amount - Local": 3915833.96,
         "Transaction Line Amount - USD": 4309884.3313948,
         "%DSOKey": "2022-03|FRA",
         "DSO Amount Type": "Revenue",
         "From Currency Code": "nan",
         "period": "2022-03-01T00:00:00.000000",
         "subsidiary_code": "FRA",
         "_deepnote_index_column": 2
        },
        {
         "NetSuite Extract DateTime": "2022-04-06T02:27:59.000000",
         "Transaction Line Amount - Local": 2949581.23,
         "Transaction Line Amount - USD": 3346152.4263735,
         "%DSOKey": "2022-02|FRA",
         "DSO Amount Type": "Revenue",
         "From Currency Code": "nan",
         "period": "2022-02-01T00:00:00.000000",
         "subsidiary_code": "FRA",
         "_deepnote_index_column": 3
        },
        {
         "NetSuite Extract DateTime": "2022-04-06T02:27:59.000000",
         "Transaction Line Amount - Local": 2137978.6,
         "Transaction Line Amount - USD": 316228.414726,
         "%DSOKey": "2022-03|DMK",
         "DSO Amount Type": "Revenue",
         "From Currency Code": "nan",
         "period": "2022-03-01T00:00:00.000000",
         "subsidiary_code": "DMK",
         "_deepnote_index_column": 4
        }
       ]
      },
      "text/plain": "  NetSuite Extract DateTime  Transaction Line Amount - Local  \\\n0       2022-04-06 02:27:59                       3912778.80   \n1       2022-04-06 02:27:59                        -15024.30   \n2       2022-04-06 02:27:59                       3915833.96   \n3       2022-04-06 02:27:59                       2949581.23   \n4       2022-04-06 02:27:59                       2137978.60   \n\n   Transaction Line Amount - USD      %DSOKey DSO Amount Type  \\\n0                   4.430557e+06  2022-01|FRA         Revenue   \n1                  -1.682722e+04  2022-04|FRA         Revenue   \n2                   4.309884e+06  2022-03|FRA         Revenue   \n3                   3.346152e+06  2022-02|FRA         Revenue   \n4                   3.162284e+05  2022-03|DMK         Revenue   \n\n  From Currency Code     period subsidiary_code  \n0                NaN 2022-01-01             FRA  \n1                NaN 2022-04-01             FRA  \n2                NaN 2022-03-01             FRA  \n3                NaN 2022-02-01             FRA  \n4                NaN 2022-03-01             DMK  ",
      "text/html": "<div>\n<style scoped>\n    .dataframe tbody tr th:only-of-type {\n        vertical-align: middle;\n    }\n\n    .dataframe tbody tr th {\n        vertical-align: top;\n    }\n\n    .dataframe thead th {\n        text-align: right;\n    }\n</style>\n<table border=\"1\" class=\"dataframe\">\n  <thead>\n    <tr style=\"text-align: right;\">\n      <th></th>\n      <th>NetSuite Extract DateTime</th>\n      <th>Transaction Line Amount - Local</th>\n      <th>Transaction Line Amount - USD</th>\n      <th>%DSOKey</th>\n      <th>DSO Amount Type</th>\n      <th>From Currency Code</th>\n      <th>period</th>\n      <th>subsidiary_code</th>\n    </tr>\n  </thead>\n  <tbody>\n    <tr>\n      <th>0</th>\n      <td>2022-04-06 02:27:59</td>\n      <td>3912778.80</td>\n      <td>4.430557e+06</td>\n      <td>2022-01|FRA</td>\n      <td>Revenue</td>\n      <td>NaN</td>\n      <td>2022-01-01</td>\n      <td>FRA</td>\n    </tr>\n    <tr>\n      <th>1</th>\n      <td>2022-04-06 02:27:59</td>\n      <td>-15024.30</td>\n      <td>-1.682722e+04</td>\n      <td>2022-04|FRA</td>\n      <td>Revenue</td>\n      <td>NaN</td>\n      <td>2022-04-01</td>\n      <td>FRA</td>\n    </tr>\n    <tr>\n      <th>2</th>\n      <td>2022-04-06 02:27:59</td>\n      <td>3915833.96</td>\n      <td>4.309884e+06</td>\n      <td>2022-03|FRA</td>\n      <td>Revenue</td>\n      <td>NaN</td>\n      <td>2022-03-01</td>\n      <td>FRA</td>\n    </tr>\n    <tr>\n      <th>3</th>\n      <td>2022-04-06 02:27:59</td>\n      <td>2949581.23</td>\n      <td>3.346152e+06</td>\n      <td>2022-02|FRA</td>\n      <td>Revenue</td>\n      <td>NaN</td>\n      <td>2022-02-01</td>\n      <td>FRA</td>\n    </tr>\n    <tr>\n      <th>4</th>\n      <td>2022-04-06 02:27:59</td>\n      <td>2137978.60</td>\n      <td>3.162284e+05</td>\n      <td>2022-03|DMK</td>\n      <td>Revenue</td>\n      <td>NaN</td>\n      <td>2022-03-01</td>\n      <td>DMK</td>\n    </tr>\n  </tbody>\n</table>\n</div>"
     },
     "metadata": {}
    }
   ]
  },
  {
   "cell_type": "code",
   "metadata": {
    "cell_id": "168e0ddc1b43483fb9402198fb30dd1d",
    "tags": [],
    "deepnote_to_be_reexecuted": false,
    "source_hash": "5092da2",
    "execution_start": 1658866531856,
    "execution_millis": 11,
    "deepnote_cell_type": "code",
    "deepnote_cell_height": 153
   },
   "source": "df_full_subsidiaries=pd.read_csv(source_path+'full_subsidiaries.csv')\ndf_full_subsidiaries=df_full_subsidiaries[['%SubsidiaryCode_orig','Subsidiary Currency Code_orig','%SubsidiaryCode','Subsidiary Currency Code']]\nmap_subsidiary_code = dict(zip(df_full_subsidiaries['%SubsidiaryCode_orig'], df_full_subsidiaries['%SubsidiaryCode']))\nmap_subsidiary_currency_code = dict(zip(df_full_subsidiaries['Subsidiary Currency Code_orig'], df_full_subsidiaries['Subsidiary Currency Code']))\ndf_full_subsidiaries=[]",
   "execution_count": null,
   "outputs": []
  },
  {
   "cell_type": "code",
   "metadata": {
    "cell_id": "8b906d598d11441880e536be94332ffc",
    "tags": [],
    "deepnote_to_be_reexecuted": false,
    "source_hash": "f12a038f",
    "execution_start": 1658866531871,
    "execution_millis": 55,
    "deepnote_cell_type": "code",
    "deepnote_cell_height": 670,
    "deepnote_output_heights": [
     607
    ]
   },
   "source": "anon_dso=dfAnonymizer(df_dso)\nanon_dso.datetime_noise(['NetSuite Extract DateTime','period'])\nanon_dso.info()\n\ndf_dso_anon=anon_dso.to_df()\ndf_dso_anon['Transaction Line Amount - Local']=noise_amount_column(\n    df_dso_anon['Transaction Line Amount - Local'])\ndf_dso_anon['Transaction Line Amount - USD']=noise_amount_column(\n    df_dso_anon['Transaction Line Amount - USD'])\ndf_dso_anon['%DSOKey']=df_dso_anon[\n    'period'].dt.strftime(\"%Y-%m\")+'|'+df_dso_anon['subsidiary_code'].map(map_subsidiary_code)\ndf_dso_anon['From Currency Code']=df_dso_anon['From Currency Code'].map(map_subsidiary_currency_code)",
   "execution_count": null,
   "outputs": [
    {
     "name": "stdout",
     "text": "+---------------------------------+--------+-------------+-----------------------+\n|             Column              | Status |    Type     |        Method         |\n+=================================+========+=============+=======================+\n| NetSuite Extract DateTime       | 1      | datetime    | Datetime Perturbation |\n+---------------------------------+--------+-------------+-----------------------+\n| Transaction Line Amount - Local | 0      | numeric     |                       |\n+---------------------------------+--------+-------------+-----------------------+\n| Transaction Line Amount - USD   | 0      | numeric     |                       |\n+---------------------------------+--------+-------------+-----------------------+\n| %DSOKey                         | 0      | categorical |                       |\n+---------------------------------+--------+-------------+-----------------------+\n| DSO Amount Type                 | 0      | categorical |                       |\n+---------------------------------+--------+-------------+-----------------------+\n| From Currency Code              | 0      | categorical |                       |\n+---------------------------------+--------+-------------+-----------------------+\n| period                          | 1      | datetime    | Datetime Perturbation |\n+---------------------------------+--------+-------------+-----------------------+\n| subsidiary_code                 | 0      | categorical |                       |\n+---------------------------------+--------+-------------+-----------------------+\n",
     "output_type": "stream"
    }
   ]
  },
  {
   "cell_type": "code",
   "metadata": {
    "cell_id": "44af64cd69e14db8bf0e18eb71b6c7b9",
    "tags": [],
    "deepnote_to_be_reexecuted": false,
    "source_hash": "519d9d3c",
    "execution_start": 1658866531912,
    "execution_millis": 46,
    "deepnote_cell_type": "code",
    "deepnote_cell_height": 464,
    "deepnote_output_heights": [
     21
    ]
   },
   "source": "df_dso=df_dso.drop(columns=['period','subsidiary_code'])\ndf_dso_anon=df_dso_anon.drop(columns=['period','subsidiary_code'])\ndf_dso=df_dso.join(df_dso_anon,how='inner',lsuffix='_orig')\ndf_dso.head()",
   "execution_count": null,
   "outputs": [
    {
     "output_type": "execute_result",
     "execution_count": 91,
     "data": {
      "application/vnd.deepnote.dataframe.v3+json": {
       "column_count": 12,
       "row_count": 5,
       "columns": [
        {
         "name": "NetSuite Extract DateTime_orig",
         "dtype": "datetime64[ns]",
         "stats": {
          "unique_count": 1,
          "nan_count": 0,
          "min": "2022-04-06 02:27:59",
          "max": "2022-04-06 02:27:59",
          "histogram": null
         }
        },
        {
         "name": "Transaction Line Amount - Local_orig",
         "dtype": "float64",
         "stats": {
          "unique_count": 5,
          "nan_count": 0,
          "min": "-15024.3",
          "max": "3915833.96",
          "histogram": [
           {
            "bin_start": -15024.3,
            "bin_end": 378061.526,
            "count": 1
           },
           {
            "bin_start": 378061.526,
            "bin_end": 771147.352,
            "count": 0
           },
           {
            "bin_start": 771147.352,
            "bin_end": 1164233.178,
            "count": 0
           },
           {
            "bin_start": 1164233.178,
            "bin_end": 1557319.004,
            "count": 0
           },
           {
            "bin_start": 1557319.004,
            "bin_end": 1950404.8299999998,
            "count": 0
           },
           {
            "bin_start": 1950404.8299999998,
            "bin_end": 2343490.6560000004,
            "count": 1
           },
           {
            "bin_start": 2343490.6560000004,
            "bin_end": 2736576.4820000003,
            "count": 0
           },
           {
            "bin_start": 2736576.4820000003,
            "bin_end": 3129662.308,
            "count": 1
           },
           {
            "bin_start": 3129662.308,
            "bin_end": 3522748.134,
            "count": 0
           },
           {
            "bin_start": 3522748.134,
            "bin_end": 3915833.96,
            "count": 2
           }
          ]
         }
        },
        {
         "name": "Transaction Line Amount - USD_orig",
         "dtype": "float64",
         "stats": {
          "unique_count": 5,
          "nan_count": 0,
          "min": "-16827.216",
          "max": "4430556.8186039",
          "histogram": [
           {
            "bin_start": -16827.216,
            "bin_end": 427911.18746039004,
            "count": 2
           },
           {
            "bin_start": 427911.18746039004,
            "bin_end": 872649.5909207801,
            "count": 0
           },
           {
            "bin_start": 872649.5909207801,
            "bin_end": 1317387.9943811703,
            "count": 0
           },
           {
            "bin_start": 1317387.9943811703,
            "bin_end": 1762126.3978415602,
            "count": 0
           },
           {
            "bin_start": 1762126.3978415602,
            "bin_end": 2206864.80130195,
            "count": 0
           },
           {
            "bin_start": 2206864.80130195,
            "bin_end": 2651603.2047623405,
            "count": 0
           },
           {
            "bin_start": 2651603.2047623405,
            "bin_end": 3096341.6082227305,
            "count": 0
           },
           {
            "bin_start": 3096341.6082227305,
            "bin_end": 3541080.0116831204,
            "count": 1
           },
           {
            "bin_start": 3541080.0116831204,
            "bin_end": 3985818.4151435103,
            "count": 0
           },
           {
            "bin_start": 3985818.4151435103,
            "bin_end": 4430556.8186039,
            "count": 2
           }
          ]
         }
        },
        {
         "name": "%DSOKey_orig",
         "dtype": "object",
         "stats": {
          "unique_count": 5,
          "nan_count": 0,
          "categories": [
           {
            "name": "2022-01|FRA",
            "count": 1
           },
           {
            "name": "2022-04|FRA",
            "count": 1
           },
           {
            "name": "3 others",
            "count": 3
           }
          ]
         }
        },
        {
         "name": "DSO Amount Type_orig",
         "dtype": "object",
         "stats": {
          "unique_count": 1,
          "nan_count": 0,
          "categories": [
           {
            "name": "Revenue",
            "count": 5
           }
          ]
         }
        },
        {
         "name": "From Currency Code_orig",
         "dtype": "object",
         "stats": {
          "unique_count": 0,
          "nan_count": 5,
          "categories": [
           {
            "name": "Missing",
            "count": 5
           }
          ]
         }
        },
        {
         "name": "NetSuite Extract DateTime",
         "dtype": "datetime64[ns]",
         "stats": {
          "unique_count": 5,
          "nan_count": 0,
          "min": "2021-06-06 02:27:59",
          "max": "2022-11-04 02:27:59",
          "histogram": [
           {
            "bin_start": 1622946479000000000,
            "bin_end": 1627404719000000000,
            "count": 2
           },
           {
            "bin_start": 1627404719000000000,
            "bin_end": 1631862959000000000,
            "count": 1
           },
           {
            "bin_start": 1631862959000000000,
            "bin_end": 1636321199000000000,
            "count": 0
           },
           {
            "bin_start": 1636321199000000000,
            "bin_end": 1640779439000000000,
            "count": 0
           },
           {
            "bin_start": 1640779439000000000,
            "bin_end": 1645237679000000000,
            "count": 0
           },
           {
            "bin_start": 1645237679000000000,
            "bin_end": 1649695919000000000,
            "count": 0
           },
           {
            "bin_start": 1649695919000000000,
            "bin_end": 1654154159000000000,
            "count": 0
           },
           {
            "bin_start": 1654154159000000000,
            "bin_end": 1658612399000000000,
            "count": 1
           },
           {
            "bin_start": 1658612399000000000,
            "bin_end": 1663070639000000000,
            "count": 0
           },
           {
            "bin_start": 1663070639000000000,
            "bin_end": 1667528879000000000,
            "count": 1
           }
          ]
         }
        },
        {
         "name": "Transaction Line Amount - Local",
         "dtype": "float64",
         "stats": {
          "unique_count": 5,
          "nan_count": 0,
          "min": "-60016.2",
          "max": "2660556.0",
          "histogram": [
           {
            "bin_start": -60016.2,
            "bin_end": 212041.02000000002,
            "count": 1
           },
           {
            "bin_start": 212041.02000000002,
            "bin_end": 484098.24000000005,
            "count": 0
           },
           {
            "bin_start": 484098.24000000005,
            "bin_end": 756155.4600000002,
            "count": 0
           },
           {
            "bin_start": 756155.4600000002,
            "bin_end": 1028212.6800000002,
            "count": 0
           },
           {
            "bin_start": 1028212.6800000002,
            "bin_end": 1300269.9000000001,
            "count": 0
           },
           {
            "bin_start": 1300269.9000000001,
            "bin_end": 1572327.1200000003,
            "count": 1
           },
           {
            "bin_start": 1572327.1200000003,
            "bin_end": 1844384.3400000003,
            "count": 0
           },
           {
            "bin_start": 1844384.3400000003,
            "bin_end": 2116441.56,
            "count": 1
           },
           {
            "bin_start": 2116441.56,
            "bin_end": 2388498.7800000003,
            "count": 0
           },
           {
            "bin_start": 2388498.7800000003,
            "bin_end": 2660556,
            "count": 2
           }
          ]
         }
        },
        {
         "name": "Transaction Line Amount - USD",
         "dtype": "float64",
         "stats": {
          "unique_count": 5,
          "nan_count": 0,
          "min": "-61218.1",
          "max": "3003704.5",
          "histogram": [
           {
            "bin_start": -61218.1,
            "bin_end": 245274.16,
            "count": 1
           },
           {
            "bin_start": 245274.16,
            "bin_end": 551766.42,
            "count": 1
           },
           {
            "bin_start": 551766.42,
            "bin_end": 858258.68,
            "count": 0
           },
           {
            "bin_start": 858258.68,
            "bin_end": 1164750.94,
            "count": 0
           },
           {
            "bin_start": 1164750.94,
            "bin_end": 1471243.2,
            "count": 0
           },
           {
            "bin_start": 1471243.2,
            "bin_end": 1777735.46,
            "count": 0
           },
           {
            "bin_start": 1777735.46,
            "bin_end": 2084227.7200000002,
            "count": 0
           },
           {
            "bin_start": 2084227.7200000002,
            "bin_end": 2390719.98,
            "count": 1
           },
           {
            "bin_start": 2390719.98,
            "bin_end": 2697212.2399999998,
            "count": 0
           },
           {
            "bin_start": 2697212.2399999998,
            "bin_end": 3003704.5,
            "count": 2
           }
          ]
         }
        },
        {
         "name": "%DSOKey",
         "dtype": "object",
         "stats": {
          "unique_count": 4,
          "nan_count": 0,
          "categories": [
           {
            "name": "2021-12|cc8",
            "count": 2
           },
           {
            "name": "2022-02|cc8",
            "count": 1
           },
           {
            "name": "2 others",
            "count": 2
           }
          ]
         }
        },
        {
         "name": "DSO Amount Type",
         "dtype": "object",
         "stats": {
          "unique_count": 1,
          "nan_count": 0,
          "categories": [
           {
            "name": "Revenue",
            "count": 5
           }
          ]
         }
        },
        {
         "name": "From Currency Code",
         "dtype": "object",
         "stats": {
          "unique_count": 0,
          "nan_count": 5,
          "categories": [
           {
            "name": "Missing",
            "count": 5
           }
          ]
         }
        },
        {
         "name": "_deepnote_index_column",
         "dtype": "int64"
        }
       ],
       "rows": [
        {
         "NetSuite Extract DateTime_orig": "2022-04-06T02:27:59.000000",
         "Transaction Line Amount - Local_orig": 3912778.8,
         "Transaction Line Amount - USD_orig": 4430556.8186039,
         "%DSOKey_orig": "2022-01|FRA",
         "DSO Amount Type_orig": "Revenue",
         "From Currency Code_orig": "nan",
         "NetSuite Extract DateTime": "2022-06-03T02:27:59.000000",
         "Transaction Line Amount - Local": 2658519.2,
         "Transaction Line Amount - USD": 3003704.5,
         "%DSOKey": "2022-02|cc8",
         "DSO Amount Type": "Revenue",
         "From Currency Code": "nan",
         "_deepnote_index_column": 0
        },
        {
         "NetSuite Extract DateTime_orig": "2022-04-06T02:27:59.000000",
         "Transaction Line Amount - Local_orig": -15024.3,
         "Transaction Line Amount - USD_orig": -16827.216,
         "%DSOKey_orig": "2022-04|FRA",
         "DSO Amount Type_orig": "Revenue",
         "From Currency Code_orig": "nan",
         "NetSuite Extract DateTime": "2021-08-05T02:27:59.000000",
         "Transaction Line Amount - Local": -60016.2,
         "Transaction Line Amount - USD": -61218.1,
         "%DSOKey": "2021-12|cc8",
         "DSO Amount Type": "Revenue",
         "From Currency Code": "nan",
         "_deepnote_index_column": 1
        },
        {
         "NetSuite Extract DateTime_orig": "2022-04-06T02:27:59.000000",
         "Transaction Line Amount - Local_orig": 3915833.96,
         "Transaction Line Amount - USD_orig": 4309884.3313948,
         "%DSOKey_orig": "2022-03|FRA",
         "DSO Amount Type_orig": "Revenue",
         "From Currency Code_orig": "nan",
         "NetSuite Extract DateTime": "2021-06-06T02:27:59.000000",
         "Transaction Line Amount - Local": 2660556,
         "Transaction Line Amount - USD": 2923256.2,
         "%DSOKey": "2021-12|cc8",
         "DSO Amount Type": "Revenue",
         "From Currency Code": "nan",
         "_deepnote_index_column": 2
        },
        {
         "NetSuite Extract DateTime_orig": "2022-04-06T02:27:59.000000",
         "Transaction Line Amount - Local_orig": 2949581.23,
         "Transaction Line Amount - USD_orig": 3346152.4263735,
         "%DSOKey_orig": "2022-02|FRA",
         "DSO Amount Type_orig": "Revenue",
         "From Currency Code_orig": "nan",
         "NetSuite Extract DateTime": "2021-06-08T02:27:59.000000",
         "Transaction Line Amount - Local": 2016387.5,
         "Transaction Line Amount - USD": 2280768.3,
         "%DSOKey": "2021-08|cc8",
         "DSO Amount Type": "Revenue",
         "From Currency Code": "nan",
         "_deepnote_index_column": 3
        },
        {
         "NetSuite Extract DateTime_orig": "2022-04-06T02:27:59.000000",
         "Transaction Line Amount - Local_orig": 2137978.6,
         "Transaction Line Amount - USD_orig": 316228.414726,
         "%DSOKey_orig": "2022-03|DMK",
         "DSO Amount Type_orig": "Revenue",
         "From Currency Code_orig": "nan",
         "NetSuite Extract DateTime": "2022-11-04T02:27:59.000000",
         "Transaction Line Amount - Local": 1475319.1,
         "Transaction Line Amount - USD": 260818.9,
         "%DSOKey": "2022-10|033",
         "DSO Amount Type": "Revenue",
         "From Currency Code": "nan",
         "_deepnote_index_column": 4
        }
       ]
      },
      "text/plain": "  NetSuite Extract DateTime_orig  Transaction Line Amount - Local_orig  \\\n0            2022-04-06 02:27:59                            3912778.80   \n1            2022-04-06 02:27:59                             -15024.30   \n2            2022-04-06 02:27:59                            3915833.96   \n3            2022-04-06 02:27:59                            2949581.23   \n4            2022-04-06 02:27:59                            2137978.60   \n\n   Transaction Line Amount - USD_orig %DSOKey_orig DSO Amount Type_orig  \\\n0                        4.430557e+06  2022-01|FRA              Revenue   \n1                       -1.682722e+04  2022-04|FRA              Revenue   \n2                        4.309884e+06  2022-03|FRA              Revenue   \n3                        3.346152e+06  2022-02|FRA              Revenue   \n4                        3.162284e+05  2022-03|DMK              Revenue   \n\n  From Currency Code_orig NetSuite Extract DateTime  \\\n0                     NaN       2022-06-03 02:27:59   \n1                     NaN       2021-08-05 02:27:59   \n2                     NaN       2021-06-06 02:27:59   \n3                     NaN       2021-06-08 02:27:59   \n4                     NaN       2022-11-04 02:27:59   \n\n   Transaction Line Amount - Local  Transaction Line Amount - USD  \\\n0                        2658519.2                      3003704.5   \n1                         -60016.2                       -61218.1   \n2                        2660556.0                      2923256.2   \n3                        2016387.5                      2280768.3   \n4                        1475319.1                       260818.9   \n\n       %DSOKey DSO Amount Type From Currency Code  \n0  2022-02|cc8         Revenue                NaN  \n1  2021-12|cc8         Revenue                NaN  \n2  2021-12|cc8         Revenue                NaN  \n3  2021-08|cc8         Revenue                NaN  \n4  2022-10|033         Revenue                NaN  ",
      "text/html": "<div>\n<style scoped>\n    .dataframe tbody tr th:only-of-type {\n        vertical-align: middle;\n    }\n\n    .dataframe tbody tr th {\n        vertical-align: top;\n    }\n\n    .dataframe thead th {\n        text-align: right;\n    }\n</style>\n<table border=\"1\" class=\"dataframe\">\n  <thead>\n    <tr style=\"text-align: right;\">\n      <th></th>\n      <th>NetSuite Extract DateTime_orig</th>\n      <th>Transaction Line Amount - Local_orig</th>\n      <th>Transaction Line Amount - USD_orig</th>\n      <th>%DSOKey_orig</th>\n      <th>DSO Amount Type_orig</th>\n      <th>From Currency Code_orig</th>\n      <th>NetSuite Extract DateTime</th>\n      <th>Transaction Line Amount - Local</th>\n      <th>Transaction Line Amount - USD</th>\n      <th>%DSOKey</th>\n      <th>DSO Amount Type</th>\n      <th>From Currency Code</th>\n    </tr>\n  </thead>\n  <tbody>\n    <tr>\n      <th>0</th>\n      <td>2022-04-06 02:27:59</td>\n      <td>3912778.80</td>\n      <td>4.430557e+06</td>\n      <td>2022-01|FRA</td>\n      <td>Revenue</td>\n      <td>NaN</td>\n      <td>2022-06-03 02:27:59</td>\n      <td>2658519.2</td>\n      <td>3003704.5</td>\n      <td>2022-02|cc8</td>\n      <td>Revenue</td>\n      <td>NaN</td>\n    </tr>\n    <tr>\n      <th>1</th>\n      <td>2022-04-06 02:27:59</td>\n      <td>-15024.30</td>\n      <td>-1.682722e+04</td>\n      <td>2022-04|FRA</td>\n      <td>Revenue</td>\n      <td>NaN</td>\n      <td>2021-08-05 02:27:59</td>\n      <td>-60016.2</td>\n      <td>-61218.1</td>\n      <td>2021-12|cc8</td>\n      <td>Revenue</td>\n      <td>NaN</td>\n    </tr>\n    <tr>\n      <th>2</th>\n      <td>2022-04-06 02:27:59</td>\n      <td>3915833.96</td>\n      <td>4.309884e+06</td>\n      <td>2022-03|FRA</td>\n      <td>Revenue</td>\n      <td>NaN</td>\n      <td>2021-06-06 02:27:59</td>\n      <td>2660556.0</td>\n      <td>2923256.2</td>\n      <td>2021-12|cc8</td>\n      <td>Revenue</td>\n      <td>NaN</td>\n    </tr>\n    <tr>\n      <th>3</th>\n      <td>2022-04-06 02:27:59</td>\n      <td>2949581.23</td>\n      <td>3.346152e+06</td>\n      <td>2022-02|FRA</td>\n      <td>Revenue</td>\n      <td>NaN</td>\n      <td>2021-06-08 02:27:59</td>\n      <td>2016387.5</td>\n      <td>2280768.3</td>\n      <td>2021-08|cc8</td>\n      <td>Revenue</td>\n      <td>NaN</td>\n    </tr>\n    <tr>\n      <th>4</th>\n      <td>2022-04-06 02:27:59</td>\n      <td>2137978.60</td>\n      <td>3.162284e+05</td>\n      <td>2022-03|DMK</td>\n      <td>Revenue</td>\n      <td>NaN</td>\n      <td>2022-11-04 02:27:59</td>\n      <td>1475319.1</td>\n      <td>260818.9</td>\n      <td>2022-10|033</td>\n      <td>Revenue</td>\n      <td>NaN</td>\n    </tr>\n  </tbody>\n</table>\n</div>"
     },
     "metadata": {}
    }
   ]
  },
  {
   "cell_type": "code",
   "metadata": {
    "cell_id": "d38bb39317ac468aa72d1711d3225325",
    "tags": [],
    "deepnote_to_be_reexecuted": false,
    "source_hash": "dc912219",
    "execution_start": 1658866549069,
    "execution_millis": 2,
    "deepnote_cell_type": "code",
    "deepnote_cell_height": 81
   },
   "source": "df_dso=[]",
   "execution_count": null,
   "outputs": []
  },
  {
   "cell_type": "markdown",
   "source": "## Invoices",
   "metadata": {
    "formattedRanges": [],
    "cell_id": "6deb9e012f1c465f82e7410025143b7d",
    "tags": [],
    "is_collapsed": false,
    "deepnote_cell_type": "text-cell-h2"
   }
  },
  {
   "cell_type": "code",
   "metadata": {
    "cell_id": "4778789035634521943c48b3b21fb425",
    "tags": [],
    "deepnote_to_be_reexecuted": false,
    "source_hash": "189d74b1",
    "execution_start": 1658867292400,
    "execution_millis": 2798,
    "deepnote_cell_type": "code",
    "deepnote_cell_height": 552
   },
   "source": "df_invoice = pd.read_csv(source_path+'AR_Invoices.csv',nrows=100000)\ndate_columns=['Date','Due Date','As Of Date','Rev. Rec. Start Date','Rev. Rec. End Date','Contract Item Start Date','Contract Item End Date']\nfor column in date_columns:\n    df_invoice[column]=pd.to_datetime(df_invoice[column])\ndf_invoice.head()",
   "execution_count": null,
   "outputs": [
    {
     "name": "stderr",
     "text": "/shared-libs/python3.9/py-core/lib/python3.9/site-packages/IPython/core/interactiveshell.py:3257: DtypeWarning: Columns (38,39,40,56,57,62) have mixed types.Specify dtype option on import or set low_memory=False.\n  has_raised = await self.run_ast_nodes(code_ast.body, cell_name,\n",
     "output_type": "stream"
    },
    {
     "output_type": "execute_result",
     "execution_count": 106,
     "data": {
      "application/vnd.deepnote.dataframe.v3+json": {
       "column_count": 77,
       "row_count": 5,
       "columns": [
        {
         "name": "Is Missing Required PO",
         "dtype": "object",
         "stats": {
          "unique_count": 1,
          "nan_count": 0,
          "categories": [
           {
            "name": "No",
            "count": 5
           }
          ]
         }
        },
        {
         "name": "Detail URL",
         "dtype": "object",
         "stats": {
          "unique_count": 3,
          "nan_count": 0,
          "categories": [
           {
            "name": "https://system.na1.netsuite.com/app/accounting/transactions/custinvc.nl?id=39352621",
            "count": 3
           },
           {
            "name": "https://system.na1.netsuite.com/app/accounting/transactions/custinvc.nl?id=37506267",
            "count": 1
           },
           {
            "name": "https://system.na1.netsuite.com/app/accounting/transactions/custinvc.nl?id=37506268",
            "count": 1
           }
          ]
         }
        },
        {
         "name": "Customer URL",
         "dtype": "object",
         "stats": {
          "unique_count": 1,
          "nan_count": 0,
          "categories": [
           {
            "name": "https://system.na1.netsuite.com/app/common/entity/custjob.nl?id=463544",
            "count": 5
           }
          ]
         }
        },
        {
         "name": "Collection Group",
         "dtype": "object",
         "stats": {
          "unique_count": 1,
          "nan_count": 0,
          "categories": [
           {
            "name": "Reseller",
            "count": 5
           }
          ]
         }
        },
        {
         "name": "%SummaryKey",
         "dtype": "object",
         "stats": {
          "unique_count": 1,
          "nan_count": 0,
          "categories": [
           {
            "name": "1/31/2019|230569 PT. Evotech Distribusi",
            "count": 5
           }
          ]
         }
        },
        {
         "name": "Document ID",
         "dtype": "object",
         "stats": {
          "unique_count": 3,
          "nan_count": 0,
          "categories": [
           {
            "name": "INVSING00004620",
            "count": 3
           },
           {
            "name": "INVSING00004586",
            "count": 1
           },
           {
            "name": "INVSING00004587",
            "count": 1
           }
          ]
         }
        },
        {
         "name": "%ItemID",
         "dtype": "float64",
         "stats": {
          "unique_count": 2,
          "nan_count": 0,
          "min": "2171.0",
          "max": "10061.0",
          "histogram": [
           {
            "bin_start": 2171,
            "bin_end": 2960,
            "count": 4
           },
           {
            "bin_start": 2960,
            "bin_end": 3749,
            "count": 0
           },
           {
            "bin_start": 3749,
            "bin_end": 4538,
            "count": 0
           },
           {
            "bin_start": 4538,
            "bin_end": 5327,
            "count": 0
           },
           {
            "bin_start": 5327,
            "bin_end": 6116,
            "count": 0
           },
           {
            "bin_start": 6116,
            "bin_end": 6905,
            "count": 0
           },
           {
            "bin_start": 6905,
            "bin_end": 7694,
            "count": 0
           },
           {
            "bin_start": 7694,
            "bin_end": 8483,
            "count": 0
           },
           {
            "bin_start": 8483,
            "bin_end": 9272,
            "count": 0
           },
           {
            "bin_start": 9272,
            "bin_end": 10061,
            "count": 1
           }
          ]
         }
        },
        {
         "name": "%ARCommentKey",
         "dtype": "object",
         "stats": {
          "unique_count": 1,
          "nan_count": 0,
          "categories": [
           {
            "name": "1/31/2019|230569 PT. Evotech Distribusi",
            "count": 5
           }
          ]
         }
        },
        {
         "name": "Due Date",
         "dtype": "datetime64[ns]",
         "stats": {
          "unique_count": 2,
          "nan_count": 0,
          "min": "2019-01-31 00:00:00",
          "max": "2019-02-27 00:00:00",
          "histogram": [
           {
            "bin_start": 1548892800000000000,
            "bin_end": 1549126080000000000,
            "count": 2
           },
           {
            "bin_start": 1549126080000000000,
            "bin_end": 1549359360000000000,
            "count": 0
           },
           {
            "bin_start": 1549359360000000000,
            "bin_end": 1549592640000000000,
            "count": 0
           },
           {
            "bin_start": 1549592640000000000,
            "bin_end": 1549825920000000000,
            "count": 0
           },
           {
            "bin_start": 1549825920000000000,
            "bin_end": 1550059200000000000,
            "count": 0
           },
           {
            "bin_start": 1550059200000000000,
            "bin_end": 1550292480000000000,
            "count": 0
           },
           {
            "bin_start": 1550292480000000000,
            "bin_end": 1550525760000000000,
            "count": 0
           },
           {
            "bin_start": 1550525760000000000,
            "bin_end": 1550759040000000000,
            "count": 0
           },
           {
            "bin_start": 1550759040000000000,
            "bin_end": 1550992320000000000,
            "count": 0
           },
           {
            "bin_start": 1550992320000000000,
            "bin_end": 1551225600000000000,
            "count": 3
           }
          ]
         }
        },
        {
         "name": "Date",
         "dtype": "datetime64[ns]",
         "stats": {
          "unique_count": 2,
          "nan_count": 0,
          "min": "2019-01-01 00:00:00",
          "max": "2019-01-28 00:00:00",
          "histogram": [
           {
            "bin_start": 1546300800000000000,
            "bin_end": 1546534080000000000,
            "count": 2
           },
           {
            "bin_start": 1546534080000000000,
            "bin_end": 1546767360000000000,
            "count": 0
           },
           {
            "bin_start": 1546767360000000000,
            "bin_end": 1547000640000000000,
            "count": 0
           },
           {
            "bin_start": 1547000640000000000,
            "bin_end": 1547233920000000000,
            "count": 0
           },
           {
            "bin_start": 1547233920000000000,
            "bin_end": 1547467200000000000,
            "count": 0
           },
           {
            "bin_start": 1547467200000000000,
            "bin_end": 1547700480000000000,
            "count": 0
           },
           {
            "bin_start": 1547700480000000000,
            "bin_end": 1547933760000000000,
            "count": 0
           },
           {
            "bin_start": 1547933760000000000,
            "bin_end": 1548167040000000000,
            "count": 0
           },
           {
            "bin_start": 1548167040000000000,
            "bin_end": 1548400320000000000,
            "count": 0
           },
           {
            "bin_start": 1548400320000000000,
            "bin_end": 1548633600000000000,
            "count": 3
           }
          ]
         }
        },
        {
         "name": "As Of Date",
         "dtype": "datetime64[ns]",
         "stats": {
          "unique_count": 1,
          "nan_count": 0,
          "min": "2019-01-31 00:00:00",
          "max": "2019-01-31 00:00:00",
          "histogram": null
         }
        },
        {
         "name": "Age",
         "dtype": "object",
         "stats": {
          "unique_count": 2,
          "nan_count": 0,
          "categories": [
           {
            "name": "-27",
            "count": 3
           },
           {
            "name": "0",
            "count": 2
           }
          ]
         }
        },
        {
         "name": "Age - Month End",
         "dtype": "int64",
         "stats": {
          "unique_count": 2,
          "nan_count": 0,
          "min": "-27",
          "max": "0",
          "histogram": [
           {
            "bin_start": -27,
            "bin_end": -24.3,
            "count": 3
           },
           {
            "bin_start": -24.3,
            "bin_end": -21.6,
            "count": 0
           },
           {
            "bin_start": -21.6,
            "bin_end": -18.9,
            "count": 0
           },
           {
            "bin_start": -18.9,
            "bin_end": -16.2,
            "count": 0
           },
           {
            "bin_start": -16.2,
            "bin_end": -13.5,
            "count": 0
           },
           {
            "bin_start": -13.5,
            "bin_end": -10.799999999999997,
            "count": 0
           },
           {
            "bin_start": -10.799999999999997,
            "bin_end": -8.099999999999998,
            "count": 0
           },
           {
            "bin_start": -8.099999999999998,
            "bin_end": -5.399999999999999,
            "count": 0
           },
           {
            "bin_start": -5.399999999999999,
            "bin_end": -2.6999999999999993,
            "count": 0
           },
           {
            "bin_start": -2.6999999999999993,
            "bin_end": 0,
            "count": 2
           }
          ]
         }
        },
        {
         "name": "Age - Quarter End",
         "dtype": "int64",
         "stats": {
          "unique_count": 2,
          "nan_count": 0,
          "min": "32",
          "max": "59",
          "histogram": [
           {
            "bin_start": 32,
            "bin_end": 34.7,
            "count": 3
           },
           {
            "bin_start": 34.7,
            "bin_end": 37.4,
            "count": 0
           },
           {
            "bin_start": 37.4,
            "bin_end": 40.1,
            "count": 0
           },
           {
            "bin_start": 40.1,
            "bin_end": 42.8,
            "count": 0
           },
           {
            "bin_start": 42.8,
            "bin_end": 45.5,
            "count": 0
           },
           {
            "bin_start": 45.5,
            "bin_end": 48.2,
            "count": 0
           },
           {
            "bin_start": 48.2,
            "bin_end": 50.900000000000006,
            "count": 0
           },
           {
            "bin_start": 50.900000000000006,
            "bin_end": 53.6,
            "count": 0
           },
           {
            "bin_start": 53.6,
            "bin_end": 56.3,
            "count": 0
           },
           {
            "bin_start": 56.3,
            "bin_end": 59,
            "count": 2
           }
          ]
         }
        },
        {
         "name": "Age - Year End",
         "dtype": "int64",
         "stats": {
          "unique_count": 2,
          "nan_count": 0,
          "min": "307",
          "max": "334",
          "histogram": [
           {
            "bin_start": 307,
            "bin_end": 309.7,
            "count": 3
           },
           {
            "bin_start": 309.7,
            "bin_end": 312.4,
            "count": 0
           },
           {
            "bin_start": 312.4,
            "bin_end": 315.1,
            "count": 0
           },
           {
            "bin_start": 315.1,
            "bin_end": 317.8,
            "count": 0
           },
           {
            "bin_start": 317.8,
            "bin_end": 320.5,
            "count": 0
           },
           {
            "bin_start": 320.5,
            "bin_end": 323.2,
            "count": 0
           },
           {
            "bin_start": 323.2,
            "bin_end": 325.9,
            "count": 0
           },
           {
            "bin_start": 325.9,
            "bin_end": 328.6,
            "count": 0
           },
           {
            "bin_start": 328.6,
            "bin_end": 331.3,
            "count": 0
           },
           {
            "bin_start": 331.3,
            "bin_end": 334,
            "count": 2
           }
          ]
         }
        },
        {
         "name": "Is Overdue",
         "dtype": "object",
         "stats": {
          "unique_count": 1,
          "nan_count": 0,
          "categories": [
           {
            "name": "No",
            "count": 5
           }
          ]
         }
        },
        {
         "name": "Is Overdue Over 30 Days",
         "dtype": "object",
         "stats": {
          "unique_count": 1,
          "nan_count": 0,
          "categories": [
           {
            "name": "No",
            "count": 5
           }
          ]
         }
        },
        {
         "name": "Is Overdue Over 60 Days",
         "dtype": "object",
         "stats": {
          "unique_count": 1,
          "nan_count": 0,
          "categories": [
           {
            "name": "No",
            "count": 5
           }
          ]
         }
        },
        {
         "name": "Is Overdue Over 90 Days",
         "dtype": "object",
         "stats": {
          "unique_count": 1,
          "nan_count": 0,
          "categories": [
           {
            "name": "No",
            "count": 5
           }
          ]
         }
        },
        {
         "name": "Customer Original",
         "dtype": "object",
         "stats": {
          "unique_count": 1,
          "nan_count": 0,
          "categories": [
           {
            "name": "230569 PT. Evotech Distribusi",
            "count": 5
           }
          ]
         }
        },
        {
         "name": "Customer Code",
         "dtype": "int64",
         "stats": {
          "unique_count": 1,
          "nan_count": 0,
          "min": "230569",
          "max": "230569",
          "histogram": [
           {
            "bin_start": 230568.5,
            "bin_end": 230568.6,
            "count": 0
           },
           {
            "bin_start": 230568.6,
            "bin_end": 230568.7,
            "count": 0
           },
           {
            "bin_start": 230568.7,
            "bin_end": 230568.8,
            "count": 0
           },
           {
            "bin_start": 230568.8,
            "bin_end": 230568.9,
            "count": 0
           },
           {
            "bin_start": 230568.9,
            "bin_end": 230569,
            "count": 0
           },
           {
            "bin_start": 230569,
            "bin_end": 230569.1,
            "count": 5
           },
           {
            "bin_start": 230569.1,
            "bin_end": 230569.2,
            "count": 0
           },
           {
            "bin_start": 230569.2,
            "bin_end": 230569.3,
            "count": 0
           },
           {
            "bin_start": 230569.3,
            "bin_end": 230569.4,
            "count": 0
           },
           {
            "bin_start": 230569.4,
            "bin_end": 230569.5,
            "count": 0
           }
          ]
         }
        },
        {
         "name": "Customer Name",
         "dtype": "object",
         "stats": {
          "unique_count": 1,
          "nan_count": 0,
          "categories": [
           {
            "name": " PT. Evotech Distribusi",
            "count": 5
           }
          ]
         }
        },
        {
         "name": "Transaction Type",
         "dtype": "object",
         "stats": {
          "unique_count": 1,
          "nan_count": 0,
          "categories": [
           {
            "name": "Invoice",
            "count": 5
           }
          ]
         }
        },
        {
         "name": "Payment Terms on Account",
         "dtype": "object",
         "stats": {
          "unique_count": 1,
          "nan_count": 0,
          "categories": [
           {
            "name": "Net 30 Days",
            "count": 5
           }
          ]
         }
        },
        {
         "name": "Sales Rep Name",
         "dtype": "object",
         "stats": {
          "unique_count": 1,
          "nan_count": 0,
          "categories": [
           {
            "name": "Ma, Simon E05406",
            "count": 5
           }
          ]
         }
        },
        {
         "name": "Supplier Portal",
         "dtype": "object",
         "stats": {
          "unique_count": 1,
          "nan_count": 0,
          "categories": [
           {
            "name": "No",
            "count": 5
           }
          ]
         }
        },
        {
         "name": "TempPriority",
         "dtype": "float64",
         "stats": {
          "unique_count": 0,
          "nan_count": 5,
          "min": null,
          "max": null,
          "histogram": [
           {
            "bin_start": 0,
            "bin_end": 0.1,
            "count": 0
           },
           {
            "bin_start": 0.1,
            "bin_end": 0.2,
            "count": 0
           },
           {
            "bin_start": 0.2,
            "bin_end": 0.30000000000000004,
            "count": 0
           },
           {
            "bin_start": 0.30000000000000004,
            "bin_end": 0.4,
            "count": 0
           },
           {
            "bin_start": 0.4,
            "bin_end": 0.5,
            "count": 0
           },
           {
            "bin_start": 0.5,
            "bin_end": 0.6000000000000001,
            "count": 0
           },
           {
            "bin_start": 0.6000000000000001,
            "bin_end": 0.7000000000000001,
            "count": 0
           },
           {
            "bin_start": 0.7000000000000001,
            "bin_end": 0.8,
            "count": 0
           },
           {
            "bin_start": 0.8,
            "bin_end": 0.9,
            "count": 0
           },
           {
            "bin_start": 0.9,
            "bin_end": 1,
            "count": 0
           }
          ]
         }
        },
        {
         "name": "PO Number",
         "dtype": "object",
         "stats": {
          "unique_count": 0,
          "nan_count": 5,
          "categories": [
           {
            "name": "Missing",
            "count": 5
           }
          ]
         }
        },
        {
         "name": "Project Name",
         "dtype": "object",
         "stats": {
          "unique_count": 0,
          "nan_count": 5,
          "categories": [
           {
            "name": "Missing",
            "count": 5
           }
          ]
         }
        },
        {
         "name": "Temp Transaction Amount",
         "dtype": "int64",
         "stats": {
          "unique_count": 5,
          "nan_count": 0,
          "min": "23090",
          "max": "593880",
          "histogram": [
           {
            "bin_start": 23090,
            "bin_end": 80169,
            "count": 1
           },
           {
            "bin_start": 80169,
            "bin_end": 137248,
            "count": 0
           },
           {
            "bin_start": 137248,
            "bin_end": 194327,
            "count": 0
           },
           {
            "bin_start": 194327,
            "bin_end": 251406,
            "count": 1
           },
           {
            "bin_start": 251406,
            "bin_end": 308485,
            "count": 2
           },
           {
            "bin_start": 308485,
            "bin_end": 365564,
            "count": 0
           },
           {
            "bin_start": 365564,
            "bin_end": 422643,
            "count": 0
           },
           {
            "bin_start": 422643,
            "bin_end": 479722,
            "count": 0
           },
           {
            "bin_start": 479722,
            "bin_end": 536801,
            "count": 0
           },
           {
            "bin_start": 536801,
            "bin_end": 593880,
            "count": 1
           }
          ]
         }
        },
        {
         "name": "Temp Amount Due (Foreign Currency)",
         "dtype": "int64",
         "stats": {
          "unique_count": 5,
          "nan_count": 0,
          "min": "23090",
          "max": "593880",
          "histogram": [
           {
            "bin_start": 23090,
            "bin_end": 80169,
            "count": 1
           },
           {
            "bin_start": 80169,
            "bin_end": 137248,
            "count": 0
           },
           {
            "bin_start": 137248,
            "bin_end": 194327,
            "count": 0
           },
           {
            "bin_start": 194327,
            "bin_end": 251406,
            "count": 1
           },
           {
            "bin_start": 251406,
            "bin_end": 308485,
            "count": 2
           },
           {
            "bin_start": 308485,
            "bin_end": 365564,
            "count": 0
           },
           {
            "bin_start": 365564,
            "bin_end": 422643,
            "count": 0
           },
           {
            "bin_start": 422643,
            "bin_end": 479722,
            "count": 0
           },
           {
            "bin_start": 479722,
            "bin_end": 536801,
            "count": 0
           },
           {
            "bin_start": 536801,
            "bin_end": 593880,
            "count": 1
           }
          ]
         }
        },
        {
         "name": "Open Balance",
         "dtype": "float64",
         "stats": {
          "unique_count": 5,
          "nan_count": 0,
          "min": "233.04",
          "max": "5953.28",
          "histogram": [
           {
            "bin_start": 233.04,
            "bin_end": 805.064,
            "count": 1
           },
           {
            "bin_start": 805.064,
            "bin_end": 1377.088,
            "count": 0
           },
           {
            "bin_start": 1377.088,
            "bin_end": 1949.112,
            "count": 0
           },
           {
            "bin_start": 1949.112,
            "bin_end": 2521.136,
            "count": 1
           },
           {
            "bin_start": 2521.136,
            "bin_end": 3093.16,
            "count": 2
           },
           {
            "bin_start": 3093.16,
            "bin_end": 3665.184,
            "count": 0
           },
           {
            "bin_start": 3665.184,
            "bin_end": 4237.2080000000005,
            "count": 0
           },
           {
            "bin_start": 4237.2080000000005,
            "bin_end": 4809.232,
            "count": 0
           },
           {
            "bin_start": 4809.232,
            "bin_end": 5381.256,
            "count": 0
           },
           {
            "bin_start": 5381.256,
            "bin_end": 5953.28,
            "count": 1
           }
          ]
         }
        },
        {
         "name": "Transaction Currency",
         "dtype": "object",
         "stats": {
          "unique_count": 1,
          "nan_count": 0,
          "categories": [
           {
            "name": "USD",
            "count": 5
           }
          ]
         }
        },
        {
         "name": "End User Code",
         "dtype": "float64",
         "stats": {
          "unique_count": 3,
          "nan_count": 0,
          "min": "240598.0",
          "max": "335119.0",
          "histogram": [
           {
            "bin_start": 240598,
            "bin_end": 250050.1,
            "count": 1
           },
           {
            "bin_start": 250050.1,
            "bin_end": 259502.2,
            "count": 3
           },
           {
            "bin_start": 259502.2,
            "bin_end": 268954.3,
            "count": 0
           },
           {
            "bin_start": 268954.3,
            "bin_end": 278406.4,
            "count": 0
           },
           {
            "bin_start": 278406.4,
            "bin_end": 287858.5,
            "count": 0
           },
           {
            "bin_start": 287858.5,
            "bin_end": 297310.6,
            "count": 0
           },
           {
            "bin_start": 297310.6,
            "bin_end": 306762.7,
            "count": 0
           },
           {
            "bin_start": 306762.7,
            "bin_end": 316214.8,
            "count": 0
           },
           {
            "bin_start": 316214.8,
            "bin_end": 325666.9,
            "count": 0
           },
           {
            "bin_start": 325666.9,
            "bin_end": 335119,
            "count": 1
           }
          ]
         }
        },
        {
         "name": "Rev. Rec. Start Date",
         "dtype": "datetime64[ns]",
         "stats": {
          "unique_count": 2,
          "nan_count": 0,
          "min": "2015-11-01 00:00:00",
          "max": "2019-02-01 00:00:00",
          "histogram": [
           {
            "bin_start": 1446336000000000000,
            "bin_end": 1456600320000000000,
            "count": 3
           },
           {
            "bin_start": 1456600320000000000,
            "bin_end": 1466864640000000000,
            "count": 0
           },
           {
            "bin_start": 1466864640000000000,
            "bin_end": 1477128960000000000,
            "count": 0
           },
           {
            "bin_start": 1477128960000000000,
            "bin_end": 1487393280000000000,
            "count": 0
           },
           {
            "bin_start": 1487393280000000000,
            "bin_end": 1497657600000000000,
            "count": 0
           },
           {
            "bin_start": 1497657600000000000,
            "bin_end": 1507921920000000000,
            "count": 0
           },
           {
            "bin_start": 1507921920000000000,
            "bin_end": 1518186240000000000,
            "count": 0
           },
           {
            "bin_start": 1518186240000000000,
            "bin_end": 1528450560000000000,
            "count": 0
           },
           {
            "bin_start": 1528450560000000000,
            "bin_end": 1538714880000000000,
            "count": 0
           },
           {
            "bin_start": 1538714880000000000,
            "bin_end": 1548979200000000000,
            "count": 2
           }
          ]
         }
        },
        {
         "name": "Rev. Rec. End Date",
         "dtype": "datetime64[ns]",
         "stats": {
          "unique_count": 3,
          "nan_count": 0,
          "min": "2019-03-31 00:00:00",
          "max": "2019-11-30 00:00:00",
          "histogram": [
           {
            "bin_start": 1553990400000000000,
            "bin_end": 1556098560000000000,
            "count": 1
           },
           {
            "bin_start": 1556098560000000000,
            "bin_end": 1558206720000000000,
            "count": 0
           },
           {
            "bin_start": 1558206720000000000,
            "bin_end": 1560314880000000000,
            "count": 0
           },
           {
            "bin_start": 1560314880000000000,
            "bin_end": 1562423040000000000,
            "count": 0
           },
           {
            "bin_start": 1562423040000000000,
            "bin_end": 1564531200000000000,
            "count": 0
           },
           {
            "bin_start": 1564531200000000000,
            "bin_end": 1566639360000000000,
            "count": 0
           },
           {
            "bin_start": 1566639360000000000,
            "bin_end": 1568747520000000000,
            "count": 0
           },
           {
            "bin_start": 1568747520000000000,
            "bin_end": 1570855680000000000,
            "count": 0
           },
           {
            "bin_start": 1570855680000000000,
            "bin_end": 1572963840000000000,
            "count": 3
           },
           {
            "bin_start": 1572963840000000000,
            "bin_end": 1575072000000000000,
            "count": 1
           }
          ]
         }
        },
        {
         "name": "Contract Item Start Date",
         "dtype": "datetime64[ns]",
         "stats": {
          "unique_count": 3,
          "nan_count": 0,
          "min": "2015-11-01 00:00:00",
          "max": "2019-02-01 00:00:00",
          "histogram": [
           {
            "bin_start": 1446336000000000000,
            "bin_end": 1456600320000000000,
            "count": 2
           },
           {
            "bin_start": 1456600320000000000,
            "bin_end": 1466864640000000000,
            "count": 1
           },
           {
            "bin_start": 1466864640000000000,
            "bin_end": 1477128960000000000,
            "count": 0
           },
           {
            "bin_start": 1477128960000000000,
            "bin_end": 1487393280000000000,
            "count": 0
           },
           {
            "bin_start": 1487393280000000000,
            "bin_end": 1497657600000000000,
            "count": 0
           },
           {
            "bin_start": 1497657600000000000,
            "bin_end": 1507921920000000000,
            "count": 0
           },
           {
            "bin_start": 1507921920000000000,
            "bin_end": 1518186240000000000,
            "count": 0
           },
           {
            "bin_start": 1518186240000000000,
            "bin_end": 1528450560000000000,
            "count": 0
           },
           {
            "bin_start": 1528450560000000000,
            "bin_end": 1538714880000000000,
            "count": 0
           },
           {
            "bin_start": 1538714880000000000,
            "bin_end": 1548979200000000000,
            "count": 2
           }
          ]
         }
        },
        {
         "name": "Contract Item End Date",
         "dtype": "datetime64[ns]",
         "stats": {
          "unique_count": 3,
          "nan_count": 1,
          "min": "2019-03-31 00:00:00",
          "max": "2019-11-30 00:00:00",
          "histogram": [
           {
            "bin_start": 1553990400000000000,
            "bin_end": 1556098560000000000,
            "count": 1
           },
           {
            "bin_start": 1556098560000000000,
            "bin_end": 1558206720000000000,
            "count": 0
           },
           {
            "bin_start": 1558206720000000000,
            "bin_end": 1560314880000000000,
            "count": 0
           },
           {
            "bin_start": 1560314880000000000,
            "bin_end": 1562423040000000000,
            "count": 0
           },
           {
            "bin_start": 1562423040000000000,
            "bin_end": 1564531200000000000,
            "count": 0
           },
           {
            "bin_start": 1564531200000000000,
            "bin_end": 1566639360000000000,
            "count": 0
           },
           {
            "bin_start": 1566639360000000000,
            "bin_end": 1568747520000000000,
            "count": 0
           },
           {
            "bin_start": 1568747520000000000,
            "bin_end": 1570855680000000000,
            "count": 0
           },
           {
            "bin_start": 1570855680000000000,
            "bin_end": 1572963840000000000,
            "count": 2
           },
           {
            "bin_start": 1572963840000000000,
            "bin_end": 1575072000000000000,
            "count": 1
           }
          ]
         }
        },
        {
         "name": "Contract Item Term",
         "dtype": "object",
         "stats": {
          "unique_count": 5,
          "nan_count": 0,
          "categories": [
           {
            "name": "10",
            "count": 1
           },
           {
            "name": "2",
            "count": 1
           },
           {
            "name": "3 others",
            "count": 3
           }
          ]
         }
        },
        {
         "name": "Contract Term (m)",
         "dtype": "object",
         "stats": {
          "unique_count": 5,
          "nan_count": 0,
          "categories": [
           {
            "name": "10",
            "count": 1
           },
           {
            "name": "2",
            "count": 1
           },
           {
            "name": "3 others",
            "count": 3
           }
          ]
         }
        },
        {
         "name": "Contract Term",
         "dtype": "object",
         "stats": {
          "unique_count": 3,
          "nan_count": 0,
          "categories": [
           {
            "name": "48.0",
            "count": 3
           },
           {
            "name": "10.0",
            "count": 1
           },
           {
            "name": "2.0",
            "count": 1
           }
          ]
         }
        },
        {
         "name": "%DSOKey",
         "dtype": "object",
         "stats": {
          "unique_count": 1,
          "nan_count": 0,
          "categories": [
           {
            "name": "2019-01|SIN",
            "count": 5
           }
          ]
         }
        },
        {
         "name": "Customer",
         "dtype": "object",
         "stats": {
          "unique_count": 1,
          "nan_count": 0,
          "categories": [
           {
            "name": "230569 PT. Evotech Distribusi",
            "count": 5
           }
          ]
         }
        },
        {
         "name": "End User",
         "dtype": "object",
         "stats": {
          "unique_count": 3,
          "nan_count": 0,
          "categories": [
           {
            "name": "251416 Agel Langgeng",
            "count": 3
           },
           {
            "name": "335119 PT. Dipo Star Finance",
            "count": 1
           },
           {
            "name": "240598 dexa group",
            "count": 1
           }
          ]
         }
        },
        {
         "name": "Accounts Receivable Accountant",
         "dtype": "object",
         "stats": {
          "unique_count": 1,
          "nan_count": 0,
          "categories": [
           {
            "name": "No Accounts Receivable Accountant",
            "count": 5
           }
          ]
         }
        },
        {
         "name": "Aging Bucket",
         "dtype": "object",
         "stats": {
          "unique_count": 1,
          "nan_count": 0,
          "categories": [
           {
            "name": "Not Due",
            "count": 5
           }
          ]
         }
        },
        {
         "name": "Forecast Aging Bucket - EOM",
         "dtype": "object",
         "stats": {
          "unique_count": 1,
          "nan_count": 0,
          "categories": [
           {
            "name": "Not Due",
            "count": 5
           }
          ]
         }
        },
        {
         "name": "Forecast Aging Bucket - EOQ",
         "dtype": "object",
         "stats": {
          "unique_count": 1,
          "nan_count": 0,
          "categories": [
           {
            "name": "31-60",
            "count": 5
           }
          ]
         }
        },
        {
         "name": "Forecast Aging Bucket - EOY",
         "dtype": "object",
         "stats": {
          "unique_count": 1,
          "nan_count": 0,
          "categories": [
           {
            "name": "180+",
            "count": 5
           }
          ]
         }
        },
        {
         "name": "Is Overdue Month End",
         "dtype": "object",
         "stats": {
          "unique_count": 1,
          "nan_count": 0,
          "categories": [
           {
            "name": "No",
            "count": 5
           }
          ]
         }
        },
        {
         "name": "Is Overdue Over 30 Days Month End",
         "dtype": "object",
         "stats": {
          "unique_count": 1,
          "nan_count": 0,
          "categories": [
           {
            "name": "No",
            "count": 5
           }
          ]
         }
        },
        {
         "name": "Is Overdue Over 60 Days Month End",
         "dtype": "object",
         "stats": {
          "unique_count": 1,
          "nan_count": 0,
          "categories": [
           {
            "name": "No",
            "count": 5
           }
          ]
         }
        },
        {
         "name": "Is Overdue Over 90 Days Month End",
         "dtype": "object",
         "stats": {
          "unique_count": 1,
          "nan_count": 0,
          "categories": [
           {
            "name": "No",
            "count": 5
           }
          ]
         }
        },
        {
         "name": "Is Month End",
         "dtype": "object",
         "stats": {
          "unique_count": 1,
          "nan_count": 0,
          "categories": [
           {
            "name": "Yes",
            "count": 5
           }
          ]
         }
        },
        {
         "name": "Payment Terms on Invoice",
         "dtype": "int64",
         "stats": {
          "unique_count": 1,
          "nan_count": 0,
          "min": "30",
          "max": "30",
          "histogram": [
           {
            "bin_start": 29.5,
            "bin_end": 29.6,
            "count": 0
           },
           {
            "bin_start": 29.6,
            "bin_end": 29.7,
            "count": 0
           },
           {
            "bin_start": 29.7,
            "bin_end": 29.8,
            "count": 0
           },
           {
            "bin_start": 29.8,
            "bin_end": 29.9,
            "count": 0
           },
           {
            "bin_start": 29.9,
            "bin_end": 30,
            "count": 0
           },
           {
            "bin_start": 30,
            "bin_end": 30.1,
            "count": 5
           },
           {
            "bin_start": 30.1,
            "bin_end": 30.2,
            "count": 0
           },
           {
            "bin_start": 30.2,
            "bin_end": 30.3,
            "count": 0
           },
           {
            "bin_start": 30.3,
            "bin_end": 30.4,
            "count": 0
           },
           {
            "bin_start": 30.4,
            "bin_end": 30.5,
            "count": 0
           }
          ]
         }
        },
        {
         "name": "Is Missing AR Comments",
         "dtype": "object",
         "stats": {
          "unique_count": 1,
          "nan_count": 0,
          "categories": [
           {
            "name": "Yes",
            "count": 5
           }
          ]
         }
        },
        {
         "name": "Amount Due (Foreign Currency)",
         "dtype": "object",
         "stats": {
          "unique_count": 5,
          "nan_count": 0,
          "categories": [
           {
            "name": "2948.40",
            "count": 1
           },
           {
            "name": "230.90",
            "count": 1
           },
           {
            "name": "3 others",
            "count": 3
           }
          ]
         }
        },
        {
         "name": "Transaction Amount",
         "dtype": "object",
         "stats": {
          "unique_count": 5,
          "nan_count": 0,
          "categories": [
           {
            "name": "2948.40",
            "count": 1
           },
           {
            "name": "230.90",
            "count": 1
           },
           {
            "name": "3 others",
            "count": 3
           }
          ]
         }
        },
        {
         "name": "Remaining (m)",
         "dtype": "float64",
         "stats": {
          "unique_count": 3,
          "nan_count": 1,
          "min": "2.0",
          "max": "10.0",
          "histogram": [
           {
            "bin_start": 2,
            "bin_end": 2.8,
            "count": 1
           },
           {
            "bin_start": 2.8,
            "bin_end": 3.6,
            "count": 0
           },
           {
            "bin_start": 3.6,
            "bin_end": 4.4,
            "count": 0
           },
           {
            "bin_start": 4.4,
            "bin_end": 5.2,
            "count": 0
           },
           {
            "bin_start": 5.2,
            "bin_end": 6,
            "count": 0
           },
           {
            "bin_start": 6,
            "bin_end": 6.800000000000001,
            "count": 0
           },
           {
            "bin_start": 6.800000000000001,
            "bin_end": 7.6000000000000005,
            "count": 0
           },
           {
            "bin_start": 7.6000000000000005,
            "bin_end": 8.4,
            "count": 0
           },
           {
            "bin_start": 8.4,
            "bin_end": 9.2,
            "count": 2
           },
           {
            "bin_start": 9.2,
            "bin_end": 10,
            "count": 1
           }
          ]
         }
        },
        {
         "name": "Recognized Balance",
         "dtype": "float64",
         "stats": {
          "unique_count": 4,
          "nan_count": 0,
          "min": "0.0",
          "max": "4837.04",
          "histogram": [
           {
            "bin_start": 0,
            "bin_end": 483.704,
            "count": 2
           },
           {
            "bin_start": 483.704,
            "bin_end": 967.408,
            "count": 0
           },
           {
            "bin_start": 967.408,
            "bin_end": 1451.112,
            "count": 0
           },
           {
            "bin_start": 1451.112,
            "bin_end": 1934.816,
            "count": 0
           },
           {
            "bin_start": 1934.816,
            "bin_end": 2418.52,
            "count": 2
           },
           {
            "bin_start": 2418.52,
            "bin_end": 2902.224,
            "count": 0
           },
           {
            "bin_start": 2902.224,
            "bin_end": 3385.928,
            "count": 0
           },
           {
            "bin_start": 3385.928,
            "bin_end": 3869.632,
            "count": 0
           },
           {
            "bin_start": 3869.632,
            "bin_end": 4353.336,
            "count": 0
           },
           {
            "bin_start": 4353.336,
            "bin_end": 4837.04,
            "count": 1
           }
          ]
         }
        },
        {
         "name": "Remaining Deferred Balance",
         "dtype": "float64",
         "stats": {
          "unique_count": 5,
          "nan_count": 0,
          "min": "0.0",
          "max": "2975.79",
          "histogram": [
           {
            "bin_start": 0,
            "bin_end": 297.579,
            "count": 2
           },
           {
            "bin_start": 297.579,
            "bin_end": 595.158,
            "count": 0
           },
           {
            "bin_start": 595.158,
            "bin_end": 892.7370000000001,
            "count": 1
           },
           {
            "bin_start": 892.7370000000001,
            "bin_end": 1190.316,
            "count": 1
           },
           {
            "bin_start": 1190.316,
            "bin_end": 1487.895,
            "count": 0
           },
           {
            "bin_start": 1487.895,
            "bin_end": 1785.4740000000002,
            "count": 0
           },
           {
            "bin_start": 1785.4740000000002,
            "bin_end": 2083.053,
            "count": 0
           },
           {
            "bin_start": 2083.053,
            "bin_end": 2380.632,
            "count": 0
           },
           {
            "bin_start": 2380.632,
            "bin_end": 2678.2110000000002,
            "count": 0
           },
           {
            "bin_start": 2678.2110000000002,
            "bin_end": 2975.79,
            "count": 1
           }
          ]
         }
        },
        {
         "name": "Tax Value",
         "dtype": "float64",
         "stats": {
          "unique_count": 1,
          "nan_count": 0,
          "min": "0.0",
          "max": "0.0",
          "histogram": [
           {
            "bin_start": -0.5,
            "bin_end": -0.4,
            "count": 0
           },
           {
            "bin_start": -0.4,
            "bin_end": -0.3,
            "count": 0
           },
           {
            "bin_start": -0.3,
            "bin_end": -0.19999999999999996,
            "count": 0
           },
           {
            "bin_start": -0.19999999999999996,
            "bin_end": -0.09999999999999998,
            "count": 0
           },
           {
            "bin_start": -0.09999999999999998,
            "bin_end": 0,
            "count": 0
           },
           {
            "bin_start": 0,
            "bin_end": 0.10000000000000009,
            "count": 5
           },
           {
            "bin_start": 0.10000000000000009,
            "bin_end": 0.20000000000000007,
            "count": 0
           },
           {
            "bin_start": 0.20000000000000007,
            "bin_end": 0.30000000000000004,
            "count": 0
           },
           {
            "bin_start": 0.30000000000000004,
            "bin_end": 0.4,
            "count": 0
           },
           {
            "bin_start": 0.4,
            "bin_end": 0.5,
            "count": 0
           }
          ]
         }
        },
        {
         "name": "Recognized Balance (Foreign Currency)",
         "dtype": "object",
         "stats": {
          "unique_count": 4,
          "nan_count": 0,
          "categories": [
           {
            "name": "0",
            "count": 2
           },
           {
            "name": "2353.8295454545",
            "count": 1
           },
           {
            "name": "2 others",
            "count": 2
           }
          ]
         }
        },
        {
         "name": "Remaining Deferred Balance (Foreign Currency)",
         "dtype": "float64",
         "stats": {
          "unique_count": 5,
          "nan_count": 0,
          "min": "0.0",
          "max": "2948.4",
          "histogram": [
           {
            "bin_start": 0,
            "bin_end": 294.84000000000003,
            "count": 2
           },
           {
            "bin_start": 294.84000000000003,
            "bin_end": 589.6800000000001,
            "count": 0
           },
           {
            "bin_start": 589.6800000000001,
            "bin_end": 884.5200000000001,
            "count": 1
           },
           {
            "bin_start": 884.5200000000001,
            "bin_end": 1179.3600000000001,
            "count": 1
           },
           {
            "bin_start": 1179.3600000000001,
            "bin_end": 1474.2000000000003,
            "count": 0
           },
           {
            "bin_start": 1474.2000000000003,
            "bin_end": 1769.0400000000002,
            "count": 0
           },
           {
            "bin_start": 1769.0400000000002,
            "bin_end": 2063.88,
            "count": 0
           },
           {
            "bin_start": 2063.88,
            "bin_end": 2358.7200000000003,
            "count": 0
           },
           {
            "bin_start": 2358.7200000000003,
            "bin_end": 2653.5600000000004,
            "count": 0
           },
           {
            "bin_start": 2653.5600000000004,
            "bin_end": 2948.4,
            "count": 1
           }
          ]
         }
        },
        {
         "name": "Tax Value (Foreign Currency)",
         "dtype": "float64",
         "stats": {
          "unique_count": 1,
          "nan_count": 0,
          "min": "0.0",
          "max": "0.0",
          "histogram": [
           {
            "bin_start": -0.5,
            "bin_end": -0.4,
            "count": 0
           },
           {
            "bin_start": -0.4,
            "bin_end": -0.3,
            "count": 0
           },
           {
            "bin_start": -0.3,
            "bin_end": -0.19999999999999996,
            "count": 0
           },
           {
            "bin_start": -0.19999999999999996,
            "bin_end": -0.09999999999999998,
            "count": 0
           },
           {
            "bin_start": -0.09999999999999998,
            "bin_end": 0,
            "count": 0
           },
           {
            "bin_start": 0,
            "bin_end": 0.10000000000000009,
            "count": 5
           },
           {
            "bin_start": 0.10000000000000009,
            "bin_end": 0.20000000000000007,
            "count": 0
           },
           {
            "bin_start": 0.20000000000000007,
            "bin_end": 0.30000000000000004,
            "count": 0
           },
           {
            "bin_start": 0.30000000000000004,
            "bin_end": 0.4,
            "count": 0
           },
           {
            "bin_start": 0.4,
            "bin_end": 0.5,
            "count": 0
           }
          ]
         }
        },
        {
         "name": "Recognized Balance (Local)",
         "dtype": "float64",
         "stats": {
          "unique_count": 4,
          "nan_count": 0,
          "min": "0.0",
          "max": "6536.8000425",
          "histogram": [
           {
            "bin_start": 0,
            "bin_end": 653.68000425,
            "count": 2
           },
           {
            "bin_start": 653.68000425,
            "bin_end": 1307.3600085,
            "count": 0
           },
           {
            "bin_start": 1307.3600085,
            "bin_end": 1961.0400127500002,
            "count": 0
           },
           {
            "bin_start": 1961.0400127500002,
            "bin_end": 2614.720017,
            "count": 0
           },
           {
            "bin_start": 2614.720017,
            "bin_end": 3268.40002125,
            "count": 2
           },
           {
            "bin_start": 3268.40002125,
            "bin_end": 3922.0800255000004,
            "count": 0
           },
           {
            "bin_start": 3922.0800255000004,
            "bin_end": 4575.76002975,
            "count": 0
           },
           {
            "bin_start": 4575.76002975,
            "bin_end": 5229.440034,
            "count": 0
           },
           {
            "bin_start": 5229.440034,
            "bin_end": 5883.12003825,
            "count": 0
           },
           {
            "bin_start": 5883.12003825,
            "bin_end": 6536.8000425,
            "count": 1
           }
          ]
         }
        },
        {
         "name": "Remaining Deferred Balance (Local)",
         "dtype": "float64",
         "stats": {
          "unique_count": 5,
          "nan_count": 0,
          "min": "0.0",
          "max": "4020.73308",
          "histogram": [
           {
            "bin_start": 0,
            "bin_end": 402.073308,
            "count": 2
           },
           {
            "bin_start": 402.073308,
            "bin_end": 804.146616,
            "count": 0
           },
           {
            "bin_start": 804.146616,
            "bin_end": 1206.219924,
            "count": 1
           },
           {
            "bin_start": 1206.219924,
            "bin_end": 1608.293232,
            "count": 1
           },
           {
            "bin_start": 1608.293232,
            "bin_end": 2010.36654,
            "count": 0
           },
           {
            "bin_start": 2010.36654,
            "bin_end": 2412.439848,
            "count": 0
           },
           {
            "bin_start": 2412.439848,
            "bin_end": 2814.513156,
            "count": 0
           },
           {
            "bin_start": 2814.513156,
            "bin_end": 3216.586464,
            "count": 0
           },
           {
            "bin_start": 3216.586464,
            "bin_end": 3618.659772,
            "count": 0
           },
           {
            "bin_start": 3618.659772,
            "bin_end": 4020.73308,
            "count": 1
           }
          ]
         }
        },
        {
         "name": "Tax Value (Local)",
         "dtype": "float64",
         "stats": {
          "unique_count": 1,
          "nan_count": 0,
          "min": "0.0",
          "max": "0.0",
          "histogram": [
           {
            "bin_start": -0.5,
            "bin_end": -0.4,
            "count": 0
           },
           {
            "bin_start": -0.4,
            "bin_end": -0.3,
            "count": 0
           },
           {
            "bin_start": -0.3,
            "bin_end": -0.19999999999999996,
            "count": 0
           },
           {
            "bin_start": -0.19999999999999996,
            "bin_end": -0.09999999999999998,
            "count": 0
           },
           {
            "bin_start": -0.09999999999999998,
            "bin_end": 0,
            "count": 0
           },
           {
            "bin_start": 0,
            "bin_end": 0.10000000000000009,
            "count": 5
           },
           {
            "bin_start": 0.10000000000000009,
            "bin_end": 0.20000000000000007,
            "count": 0
           },
           {
            "bin_start": 0.20000000000000007,
            "bin_end": 0.30000000000000004,
            "count": 0
           },
           {
            "bin_start": 0.30000000000000004,
            "bin_end": 0.4,
            "count": 0
           },
           {
            "bin_start": 0.4,
            "bin_end": 0.5,
            "count": 0
           }
          ]
         }
        },
        {
         "name": "Channel Tier",
         "dtype": "object",
         "stats": {
          "unique_count": 1,
          "nan_count": 0,
          "categories": [
           {
            "name": "Reseller",
            "count": 5
           }
          ]
         }
        },
        {
         "name": "Country Code",
         "dtype": "object",
         "stats": {
          "unique_count": 1,
          "nan_count": 0,
          "categories": [
           {
            "name": "ID",
            "count": 5
           }
          ]
         }
        },
        {
         "name": "Dedicated Account Rep",
         "dtype": "object",
         "stats": {
          "unique_count": 0,
          "nan_count": 5,
          "categories": [
           {
            "name": "Missing",
            "count": 5
           }
          ]
         }
        },
        {
         "name": "Is Dedicated Account",
         "dtype": "object",
         "stats": {
          "unique_count": 1,
          "nan_count": 0,
          "categories": [
           {
            "name": "No",
            "count": 5
           }
          ]
         }
        },
        {
         "name": "PO Required",
         "dtype": "object",
         "stats": {
          "unique_count": 1,
          "nan_count": 0,
          "categories": [
           {
            "name": "No",
            "count": 5
           }
          ]
         }
        },
        {
         "name": "Credit Status",
         "dtype": "object",
         "stats": {
          "unique_count": 1,
          "nan_count": 0,
          "categories": [
           {
            "name": "Approved",
            "count": 5
           }
          ]
         }
        },
        {
         "name": "Credit Limit",
         "dtype": "float64",
         "stats": {
          "unique_count": 0,
          "nan_count": 5,
          "min": null,
          "max": null,
          "histogram": [
           {
            "bin_start": 0,
            "bin_end": 0.1,
            "count": 0
           },
           {
            "bin_start": 0.1,
            "bin_end": 0.2,
            "count": 0
           },
           {
            "bin_start": 0.2,
            "bin_end": 0.30000000000000004,
            "count": 0
           },
           {
            "bin_start": 0.30000000000000004,
            "bin_end": 0.4,
            "count": 0
           },
           {
            "bin_start": 0.4,
            "bin_end": 0.5,
            "count": 0
           },
           {
            "bin_start": 0.5,
            "bin_end": 0.6000000000000001,
            "count": 0
           },
           {
            "bin_start": 0.6000000000000001,
            "bin_end": 0.7000000000000001,
            "count": 0
           },
           {
            "bin_start": 0.7000000000000001,
            "bin_end": 0.8,
            "count": 0
           },
           {
            "bin_start": 0.8,
            "bin_end": 0.9,
            "count": 0
           },
           {
            "bin_start": 0.9,
            "bin_end": 1,
            "count": 0
           }
          ]
         }
        },
        {
         "name": "SFDC Account Record Type",
         "dtype": "object",
         "stats": {
          "unique_count": 1,
          "nan_count": 0,
          "categories": [
           {
            "name": "Partner Account",
            "count": 5
           }
          ]
         }
        },
        {
         "name": "%InvoiceItemKey",
         "dtype": "object",
         "stats": {
          "unique_count": 4,
          "nan_count": 0,
          "categories": [
           {
            "name": "INVSING00004620|2171",
            "count": 2
           },
           {
            "name": "INVSING00004586|2171",
            "count": 1
           },
           {
            "name": "2 others",
            "count": 2
           }
          ]
         }
        },
        {
         "name": "_deepnote_index_column",
         "dtype": "int64"
        }
       ],
       "rows": [
        {
         "Is Missing Required PO": "No",
         "Detail URL": "https://system.na1.netsuite.com/app/accounting/transactions/custinvc.nl?id=37506267",
         "Customer URL": "https://system.na1.netsuite.com/app/common/entity/custjob.nl?id=463544",
         "Collection Group": "Reseller",
         "%SummaryKey": "1/31/2019|230569 PT. Evotech Distribusi",
         "Document ID": "INVSING00004586",
         "%ItemID": 2171,
         "%ARCommentKey": "1/31/2019|230569 PT. Evotech Distribusi",
         "Due Date": "2019-01-31T00:00:00.000000",
         "Date": "2019-01-01T00:00:00.000000",
         "As Of Date": "2019-01-31T00:00:00.000000",
         "Age": "0",
         "Age - Month End": 0,
         "Age - Quarter End": 59,
         "Age - Year End": 334,
         "Is Overdue": "No",
         "Is Overdue Over 30 Days": "No",
         "Is Overdue Over 60 Days": "No",
         "Is Overdue Over 90 Days": "No",
         "Customer Original": "230569 PT. Evotech Distribusi",
         "Customer Code": 230569,
         "Customer Name": " PT. Evotech Distribusi",
         "Transaction Type": "Invoice",
         "Payment Terms on Account": "Net 30 Days",
         "Sales Rep Name": "Ma, Simon E05406",
         "Supplier Portal": "No",
         "TempPriority": "nan",
         "PO Number": "nan",
         "Project Name": "nan",
         "Temp Transaction Amount": 294840,
         "Temp Amount Due (Foreign Currency)": 294840,
         "Open Balance": 2975.79,
         "Transaction Currency": "USD",
         "End User Code": 335119,
         "Rev. Rec. Start Date": "2019-02-01T00:00:00.000000",
         "Rev. Rec. End Date": "2019-11-30T00:00:00.000000",
         "Contract Item Start Date": "2019-02-01T00:00:00.000000",
         "Contract Item End Date": "2019-11-30 00:00:00",
         "Contract Item Term": "10",
         "Contract Term (m)": "10",
         "Contract Term": "10.0",
         "%DSOKey": "2019-01|SIN",
         "Customer": "230569 PT. Evotech Distribusi",
         "End User": "335119 PT. Dipo Star Finance",
         "Accounts Receivable Accountant": "No Accounts Receivable Accountant",
         "Aging Bucket": "Not Due",
         "Forecast Aging Bucket - EOM": "Not Due",
         "Forecast Aging Bucket - EOQ": "31-60",
         "Forecast Aging Bucket - EOY": "180+",
         "Is Overdue Month End": "No",
         "Is Overdue Over 30 Days Month End": "No",
         "Is Overdue Over 60 Days Month End": "No",
         "Is Overdue Over 90 Days Month End": "No",
         "Is Month End": "Yes",
         "Payment Terms on Invoice": 30,
         "Is Missing AR Comments": "Yes",
         "Amount Due (Foreign Currency)": "2948.40",
         "Transaction Amount": "2948.40",
         "Remaining (m)": 10,
         "Recognized Balance": 0,
         "Remaining Deferred Balance": 2975.79,
         "Tax Value": 0,
         "Recognized Balance (Foreign Currency)": "0",
         "Remaining Deferred Balance (Foreign Currency)": 2948.4,
         "Tax Value (Foreign Currency)": 0,
         "Recognized Balance (Local)": 0,
         "Remaining Deferred Balance (Local)": 4020.73308,
         "Tax Value (Local)": 0,
         "Channel Tier": "Reseller",
         "Country Code": "ID",
         "Dedicated Account Rep": "nan",
         "Is Dedicated Account": "No",
         "PO Required": "No",
         "Credit Status": "Approved",
         "Credit Limit": "nan",
         "SFDC Account Record Type": "Partner Account",
         "%InvoiceItemKey": "INVSING00004586|2171",
         "_deepnote_index_column": 0
        },
        {
         "Is Missing Required PO": "No",
         "Detail URL": "https://system.na1.netsuite.com/app/accounting/transactions/custinvc.nl?id=37506268",
         "Customer URL": "https://system.na1.netsuite.com/app/common/entity/custjob.nl?id=463544",
         "Collection Group": "Reseller",
         "%SummaryKey": "1/31/2019|230569 PT. Evotech Distribusi",
         "Document ID": "INVSING00004587",
         "%ItemID": 2171,
         "%ARCommentKey": "1/31/2019|230569 PT. Evotech Distribusi",
         "Due Date": "2019-01-31T00:00:00.000000",
         "Date": "2019-01-01T00:00:00.000000",
         "As Of Date": "2019-01-31T00:00:00.000000",
         "Age": "0",
         "Age - Month End": 0,
         "Age - Quarter End": 59,
         "Age - Year End": 334,
         "Is Overdue": "No",
         "Is Overdue Over 30 Days": "No",
         "Is Overdue Over 60 Days": "No",
         "Is Overdue Over 90 Days": "No",
         "Customer Original": "230569 PT. Evotech Distribusi",
         "Customer Code": 230569,
         "Customer Name": " PT. Evotech Distribusi",
         "Transaction Type": "Invoice",
         "Payment Terms on Account": "Net 30 Days",
         "Sales Rep Name": "Ma, Simon E05406",
         "Supplier Portal": "No",
         "TempPriority": "nan",
         "PO Number": "nan",
         "Project Name": "nan",
         "Temp Transaction Amount": 23090,
         "Temp Amount Due (Foreign Currency)": 23090,
         "Open Balance": 233.04,
         "Transaction Currency": "USD",
         "End User Code": 240598,
         "Rev. Rec. Start Date": "2019-02-01T00:00:00.000000",
         "Rev. Rec. End Date": "2019-03-31T00:00:00.000000",
         "Contract Item Start Date": "2019-02-01T00:00:00.000000",
         "Contract Item End Date": "2019-03-31 00:00:00",
         "Contract Item Term": "2",
         "Contract Term (m)": "2",
         "Contract Term": "2.0",
         "%DSOKey": "2019-01|SIN",
         "Customer": "230569 PT. Evotech Distribusi",
         "End User": "240598 dexa group",
         "Accounts Receivable Accountant": "No Accounts Receivable Accountant",
         "Aging Bucket": "Not Due",
         "Forecast Aging Bucket - EOM": "Not Due",
         "Forecast Aging Bucket - EOQ": "31-60",
         "Forecast Aging Bucket - EOY": "180+",
         "Is Overdue Month End": "No",
         "Is Overdue Over 30 Days Month End": "No",
         "Is Overdue Over 60 Days Month End": "No",
         "Is Overdue Over 90 Days Month End": "No",
         "Is Month End": "Yes",
         "Payment Terms on Invoice": 30,
         "Is Missing AR Comments": "Yes",
         "Amount Due (Foreign Currency)": "230.90",
         "Transaction Amount": "230.90",
         "Remaining (m)": 2,
         "Recognized Balance": 0,
         "Remaining Deferred Balance": 233.04,
         "Tax Value": 0,
         "Recognized Balance (Foreign Currency)": "0",
         "Remaining Deferred Balance (Foreign Currency)": 230.9,
         "Tax Value (Foreign Currency)": 0,
         "Recognized Balance (Local)": 0,
         "Remaining Deferred Balance (Local)": 314.87833,
         "Tax Value (Local)": 0,
         "Channel Tier": "Reseller",
         "Country Code": "ID",
         "Dedicated Account Rep": "nan",
         "Is Dedicated Account": "No",
         "PO Required": "No",
         "Credit Status": "Approved",
         "Credit Limit": "nan",
         "SFDC Account Record Type": "Partner Account",
         "%InvoiceItemKey": "INVSING00004587|2171",
         "_deepnote_index_column": 1
        },
        {
         "Is Missing Required PO": "No",
         "Detail URL": "https://system.na1.netsuite.com/app/accounting/transactions/custinvc.nl?id=39352621",
         "Customer URL": "https://system.na1.netsuite.com/app/common/entity/custjob.nl?id=463544",
         "Collection Group": "Reseller",
         "%SummaryKey": "1/31/2019|230569 PT. Evotech Distribusi",
         "Document ID": "INVSING00004620",
         "%ItemID": 2171,
         "%ARCommentKey": "1/31/2019|230569 PT. Evotech Distribusi",
         "Due Date": "2019-02-27T00:00:00.000000",
         "Date": "2019-01-28T00:00:00.000000",
         "As Of Date": "2019-01-31T00:00:00.000000",
         "Age": "-27",
         "Age - Month End": -27,
         "Age - Quarter End": 32,
         "Age - Year End": 307,
         "Is Overdue": "No",
         "Is Overdue Over 30 Days": "No",
         "Is Overdue Over 60 Days": "No",
         "Is Overdue Over 90 Days": "No",
         "Customer Original": "230569 PT. Evotech Distribusi",
         "Customer Code": 230569,
         "Customer Name": " PT. Evotech Distribusi",
         "Transaction Type": "Invoice",
         "Payment Terms on Account": "Net 30 Days",
         "Sales Rep Name": "Ma, Simon E05406",
         "Supplier Portal": "No",
         "TempPriority": "nan",
         "PO Number": "nan",
         "Project Name": "nan",
         "Temp Transaction Amount": 295910,
         "Temp Amount Due (Foreign Currency)": 295910,
         "Open Balance": 2966.32,
         "Transaction Currency": "USD",
         "End User Code": 251416,
         "Rev. Rec. Start Date": "2015-11-01T00:00:00.000000",
         "Rev. Rec. End Date": "2019-10-31T00:00:00.000000",
         "Contract Item Start Date": "2016-03-01T00:00:00.000000",
         "Contract Item End Date": "2019-10-31 00:00:00",
         "Contract Item Term": "44",
         "Contract Term (m)": "44",
         "Contract Term": "48.0",
         "%DSOKey": "2019-01|SIN",
         "Customer": "230569 PT. Evotech Distribusi",
         "End User": "251416 Agel Langgeng",
         "Accounts Receivable Accountant": "No Accounts Receivable Accountant",
         "Aging Bucket": "Not Due",
         "Forecast Aging Bucket - EOM": "Not Due",
         "Forecast Aging Bucket - EOQ": "31-60",
         "Forecast Aging Bucket - EOY": "180+",
         "Is Overdue Month End": "No",
         "Is Overdue Over 30 Days Month End": "No",
         "Is Overdue Over 60 Days Month End": "No",
         "Is Overdue Over 90 Days Month End": "No",
         "Is Month End": "Yes",
         "Payment Terms on Invoice": 30,
         "Is Missing AR Comments": "Yes",
         "Amount Due (Foreign Currency)": "2959.10",
         "Transaction Amount": "2959.10",
         "Remaining (m)": 9,
         "Recognized Balance": 2359.5727272727,
         "Remaining Deferred Balance": 606.74727272727,
         "Tax Value": 0,
         "Recognized Balance (Foreign Currency)": "2353.8295454545",
         "Remaining Deferred Balance (Foreign Currency)": 605.27045454545,
         "Tax Value (Foreign Currency)": 0,
         "Recognized Balance (Local)": 3188.7328852273,
         "Remaining Deferred Balance (Local)": 819.95988477273,
         "Tax Value (Local)": 0,
         "Channel Tier": "Reseller",
         "Country Code": "ID",
         "Dedicated Account Rep": "nan",
         "Is Dedicated Account": "No",
         "PO Required": "No",
         "Credit Status": "Approved",
         "Credit Limit": "nan",
         "SFDC Account Record Type": "Partner Account",
         "%InvoiceItemKey": "INVSING00004620|2171",
         "_deepnote_index_column": 2
        },
        {
         "Is Missing Required PO": "No",
         "Detail URL": "https://system.na1.netsuite.com/app/accounting/transactions/custinvc.nl?id=39352621",
         "Customer URL": "https://system.na1.netsuite.com/app/common/entity/custjob.nl?id=463544",
         "Collection Group": "Reseller",
         "%SummaryKey": "1/31/2019|230569 PT. Evotech Distribusi",
         "Document ID": "INVSING00004620",
         "%ItemID": 10061,
         "%ARCommentKey": "1/31/2019|230569 PT. Evotech Distribusi",
         "Due Date": "2019-02-27T00:00:00.000000",
         "Date": "2019-01-28T00:00:00.000000",
         "As Of Date": "2019-01-31T00:00:00.000000",
         "Age": "-27",
         "Age - Month End": -27,
         "Age - Quarter End": 32,
         "Age - Year End": 307,
         "Is Overdue": "No",
         "Is Overdue Over 30 Days": "No",
         "Is Overdue Over 60 Days": "No",
         "Is Overdue Over 90 Days": "No",
         "Customer Original": "230569 PT. Evotech Distribusi",
         "Customer Code": 230569,
         "Customer Name": " PT. Evotech Distribusi",
         "Transaction Type": "Invoice",
         "Payment Terms on Account": "Net 30 Days",
         "Sales Rep Name": "Ma, Simon E05406",
         "Supplier Portal": "No",
         "TempPriority": "nan",
         "PO Number": "nan",
         "Project Name": "nan",
         "Temp Transaction Amount": 222448,
         "Temp Amount Due (Foreign Currency)": 222448,
         "Open Balance": 2229.9,
         "Transaction Currency": "USD",
         "End User Code": 251416,
         "Rev. Rec. Start Date": "2015-11-01T00:00:00.000000",
         "Rev. Rec. End Date": "2019-10-31T00:00:00.000000",
         "Contract Item Start Date": "2015-11-01T00:00:00.000000",
         "Contract Item End Date": "NaT",
         "Contract Item Term": "0",
         "Contract Term (m)": "1",
         "Contract Term": "48.0",
         "%DSOKey": "2019-01|SIN",
         "Customer": "230569 PT. Evotech Distribusi",
         "End User": "251416 Agel Langgeng",
         "Accounts Receivable Accountant": "No Accounts Receivable Accountant",
         "Aging Bucket": "Not Due",
         "Forecast Aging Bucket - EOM": "Not Due",
         "Forecast Aging Bucket - EOQ": "31-60",
         "Forecast Aging Bucket - EOY": "180+",
         "Is Overdue Month End": "No",
         "Is Overdue Over 30 Days Month End": "No",
         "Is Overdue Over 60 Days Month End": "No",
         "Is Overdue Over 90 Days Month End": "No",
         "Is Month End": "Yes",
         "Payment Terms on Invoice": 30,
         "Is Missing AR Comments": "Yes",
         "Amount Due (Foreign Currency)": "2224.48",
         "Transaction Amount": "2224.48",
         "Remaining (m)": "nan",
         "Recognized Balance": 2229.9,
         "Remaining Deferred Balance": 0,
         "Tax Value": 0,
         "Recognized Balance (Foreign Currency)": "2224.48",
         "Remaining Deferred Balance (Foreign Currency)": 0,
         "Tax Value (Foreign Currency)": 0,
         "Recognized Balance (Local)": 3013.503056,
         "Remaining Deferred Balance (Local)": 0,
         "Tax Value (Local)": 0,
         "Channel Tier": "Reseller",
         "Country Code": "ID",
         "Dedicated Account Rep": "nan",
         "Is Dedicated Account": "No",
         "PO Required": "No",
         "Credit Status": "Approved",
         "Credit Limit": "nan",
         "SFDC Account Record Type": "Partner Account",
         "%InvoiceItemKey": "INVSING00004620|10061",
         "_deepnote_index_column": 3
        },
        {
         "Is Missing Required PO": "No",
         "Detail URL": "https://system.na1.netsuite.com/app/accounting/transactions/custinvc.nl?id=39352621",
         "Customer URL": "https://system.na1.netsuite.com/app/common/entity/custjob.nl?id=463544",
         "Collection Group": "Reseller",
         "%SummaryKey": "1/31/2019|230569 PT. Evotech Distribusi",
         "Document ID": "INVSING00004620",
         "%ItemID": 2171,
         "%ARCommentKey": "1/31/2019|230569 PT. Evotech Distribusi",
         "Due Date": "2019-02-27T00:00:00.000000",
         "Date": "2019-01-28T00:00:00.000000",
         "As Of Date": "2019-01-31T00:00:00.000000",
         "Age": "-27",
         "Age - Month End": -27,
         "Age - Quarter End": 32,
         "Age - Year End": 307,
         "Is Overdue": "No",
         "Is Overdue Over 30 Days": "No",
         "Is Overdue Over 60 Days": "No",
         "Is Overdue Over 90 Days": "No",
         "Customer Original": "230569 PT. Evotech Distribusi",
         "Customer Code": 230569,
         "Customer Name": " PT. Evotech Distribusi",
         "Transaction Type": "Invoice",
         "Payment Terms on Account": "Net 30 Days",
         "Sales Rep Name": "Ma, Simon E05406",
         "Supplier Portal": "No",
         "TempPriority": "nan",
         "PO Number": "nan",
         "Project Name": "nan",
         "Temp Transaction Amount": 593880,
         "Temp Amount Due (Foreign Currency)": 593880,
         "Open Balance": 5953.28,
         "Transaction Currency": "USD",
         "End User Code": 251416,
         "Rev. Rec. Start Date": "2015-11-01T00:00:00.000000",
         "Rev. Rec. End Date": "2019-10-31T00:00:00.000000",
         "Contract Item Start Date": "2015-11-01T00:00:00.000000",
         "Contract Item End Date": "2019-10-31 00:00:00",
         "Contract Item Term": "48",
         "Contract Term (m)": "48",
         "Contract Term": "48.0",
         "%DSOKey": "2019-01|SIN",
         "Customer": "230569 PT. Evotech Distribusi",
         "End User": "251416 Agel Langgeng",
         "Accounts Receivable Accountant": "No Accounts Receivable Accountant",
         "Aging Bucket": "Not Due",
         "Forecast Aging Bucket - EOM": "Not Due",
         "Forecast Aging Bucket - EOQ": "31-60",
         "Forecast Aging Bucket - EOY": "180+",
         "Is Overdue Month End": "No",
         "Is Overdue Over 30 Days Month End": "No",
         "Is Overdue Over 60 Days Month End": "No",
         "Is Overdue Over 90 Days Month End": "No",
         "Is Month End": "Yes",
         "Payment Terms on Invoice": 30,
         "Is Missing AR Comments": "Yes",
         "Amount Due (Foreign Currency)": "5938.80",
         "Transaction Amount": "5938.80",
         "Remaining (m)": 9,
         "Recognized Balance": 4837.04,
         "Remaining Deferred Balance": 1116.24,
         "Tax Value": 0,
         "Recognized Balance (Foreign Currency)": "4825.275",
         "Remaining Deferred Balance (Foreign Currency)": 1113.525,
         "Tax Value (Foreign Currency)": 0,
         "Recognized Balance (Local)": 6536.8000425,
         "Remaining Deferred Balance (Local)": 1508.4923175,
         "Tax Value (Local)": 0,
         "Channel Tier": "Reseller",
         "Country Code": "ID",
         "Dedicated Account Rep": "nan",
         "Is Dedicated Account": "No",
         "PO Required": "No",
         "Credit Status": "Approved",
         "Credit Limit": "nan",
         "SFDC Account Record Type": "Partner Account",
         "%InvoiceItemKey": "INVSING00004620|2171",
         "_deepnote_index_column": 4
        }
       ]
      },
      "text/plain": "  Is Missing Required PO                                         Detail URL  \\\n0                     No  https://system.na1.netsuite.com/app/accounting...   \n1                     No  https://system.na1.netsuite.com/app/accounting...   \n2                     No  https://system.na1.netsuite.com/app/accounting...   \n3                     No  https://system.na1.netsuite.com/app/accounting...   \n4                     No  https://system.na1.netsuite.com/app/accounting...   \n\n                                        Customer URL Collection Group  \\\n0  https://system.na1.netsuite.com/app/common/ent...         Reseller   \n1  https://system.na1.netsuite.com/app/common/ent...         Reseller   \n2  https://system.na1.netsuite.com/app/common/ent...         Reseller   \n3  https://system.na1.netsuite.com/app/common/ent...         Reseller   \n4  https://system.na1.netsuite.com/app/common/ent...         Reseller   \n\n                               %SummaryKey      Document ID  %ItemID  \\\n0  1/31/2019|230569 PT. Evotech Distribusi  INVSING00004586   2171.0   \n1  1/31/2019|230569 PT. Evotech Distribusi  INVSING00004587   2171.0   \n2  1/31/2019|230569 PT. Evotech Distribusi  INVSING00004620   2171.0   \n3  1/31/2019|230569 PT. Evotech Distribusi  INVSING00004620  10061.0   \n4  1/31/2019|230569 PT. Evotech Distribusi  INVSING00004620   2171.0   \n\n                             %ARCommentKey   Due Date       Date  ...  \\\n0  1/31/2019|230569 PT. Evotech Distribusi 2019-01-31 2019-01-01  ...   \n1  1/31/2019|230569 PT. Evotech Distribusi 2019-01-31 2019-01-01  ...   \n2  1/31/2019|230569 PT. Evotech Distribusi 2019-02-27 2019-01-28  ...   \n3  1/31/2019|230569 PT. Evotech Distribusi 2019-02-27 2019-01-28  ...   \n4  1/31/2019|230569 PT. Evotech Distribusi 2019-02-27 2019-01-28  ...   \n\n  Tax Value (Local) Channel Tier  Country Code  Dedicated Account Rep  \\\n0               0.0     Reseller            ID                    NaN   \n1               0.0     Reseller            ID                    NaN   \n2               0.0     Reseller            ID                    NaN   \n3               0.0     Reseller            ID                    NaN   \n4               0.0     Reseller            ID                    NaN   \n\n   Is Dedicated Account PO Required Credit Status Credit Limit  \\\n0                    No          No      Approved          NaN   \n1                    No          No      Approved          NaN   \n2                    No          No      Approved          NaN   \n3                    No          No      Approved          NaN   \n4                    No          No      Approved          NaN   \n\n  SFDC Account Record Type        %InvoiceItemKey  \n0          Partner Account   INVSING00004586|2171  \n1          Partner Account   INVSING00004587|2171  \n2          Partner Account   INVSING00004620|2171  \n3          Partner Account  INVSING00004620|10061  \n4          Partner Account   INVSING00004620|2171  \n\n[5 rows x 77 columns]",
      "text/html": "<div>\n<style scoped>\n    .dataframe tbody tr th:only-of-type {\n        vertical-align: middle;\n    }\n\n    .dataframe tbody tr th {\n        vertical-align: top;\n    }\n\n    .dataframe thead th {\n        text-align: right;\n    }\n</style>\n<table border=\"1\" class=\"dataframe\">\n  <thead>\n    <tr style=\"text-align: right;\">\n      <th></th>\n      <th>Is Missing Required PO</th>\n      <th>Detail URL</th>\n      <th>Customer URL</th>\n      <th>Collection Group</th>\n      <th>%SummaryKey</th>\n      <th>Document ID</th>\n      <th>%ItemID</th>\n      <th>%ARCommentKey</th>\n      <th>Due Date</th>\n      <th>Date</th>\n      <th>...</th>\n      <th>Tax Value (Local)</th>\n      <th>Channel Tier</th>\n      <th>Country Code</th>\n      <th>Dedicated Account Rep</th>\n      <th>Is Dedicated Account</th>\n      <th>PO Required</th>\n      <th>Credit Status</th>\n      <th>Credit Limit</th>\n      <th>SFDC Account Record Type</th>\n      <th>%InvoiceItemKey</th>\n    </tr>\n  </thead>\n  <tbody>\n    <tr>\n      <th>0</th>\n      <td>No</td>\n      <td>https://system.na1.netsuite.com/app/accounting...</td>\n      <td>https://system.na1.netsuite.com/app/common/ent...</td>\n      <td>Reseller</td>\n      <td>1/31/2019|230569 PT. Evotech Distribusi</td>\n      <td>INVSING00004586</td>\n      <td>2171.0</td>\n      <td>1/31/2019|230569 PT. Evotech Distribusi</td>\n      <td>2019-01-31</td>\n      <td>2019-01-01</td>\n      <td>...</td>\n      <td>0.0</td>\n      <td>Reseller</td>\n      <td>ID</td>\n      <td>NaN</td>\n      <td>No</td>\n      <td>No</td>\n      <td>Approved</td>\n      <td>NaN</td>\n      <td>Partner Account</td>\n      <td>INVSING00004586|2171</td>\n    </tr>\n    <tr>\n      <th>1</th>\n      <td>No</td>\n      <td>https://system.na1.netsuite.com/app/accounting...</td>\n      <td>https://system.na1.netsuite.com/app/common/ent...</td>\n      <td>Reseller</td>\n      <td>1/31/2019|230569 PT. Evotech Distribusi</td>\n      <td>INVSING00004587</td>\n      <td>2171.0</td>\n      <td>1/31/2019|230569 PT. Evotech Distribusi</td>\n      <td>2019-01-31</td>\n      <td>2019-01-01</td>\n      <td>...</td>\n      <td>0.0</td>\n      <td>Reseller</td>\n      <td>ID</td>\n      <td>NaN</td>\n      <td>No</td>\n      <td>No</td>\n      <td>Approved</td>\n      <td>NaN</td>\n      <td>Partner Account</td>\n      <td>INVSING00004587|2171</td>\n    </tr>\n    <tr>\n      <th>2</th>\n      <td>No</td>\n      <td>https://system.na1.netsuite.com/app/accounting...</td>\n      <td>https://system.na1.netsuite.com/app/common/ent...</td>\n      <td>Reseller</td>\n      <td>1/31/2019|230569 PT. Evotech Distribusi</td>\n      <td>INVSING00004620</td>\n      <td>2171.0</td>\n      <td>1/31/2019|230569 PT. Evotech Distribusi</td>\n      <td>2019-02-27</td>\n      <td>2019-01-28</td>\n      <td>...</td>\n      <td>0.0</td>\n      <td>Reseller</td>\n      <td>ID</td>\n      <td>NaN</td>\n      <td>No</td>\n      <td>No</td>\n      <td>Approved</td>\n      <td>NaN</td>\n      <td>Partner Account</td>\n      <td>INVSING00004620|2171</td>\n    </tr>\n    <tr>\n      <th>3</th>\n      <td>No</td>\n      <td>https://system.na1.netsuite.com/app/accounting...</td>\n      <td>https://system.na1.netsuite.com/app/common/ent...</td>\n      <td>Reseller</td>\n      <td>1/31/2019|230569 PT. Evotech Distribusi</td>\n      <td>INVSING00004620</td>\n      <td>10061.0</td>\n      <td>1/31/2019|230569 PT. Evotech Distribusi</td>\n      <td>2019-02-27</td>\n      <td>2019-01-28</td>\n      <td>...</td>\n      <td>0.0</td>\n      <td>Reseller</td>\n      <td>ID</td>\n      <td>NaN</td>\n      <td>No</td>\n      <td>No</td>\n      <td>Approved</td>\n      <td>NaN</td>\n      <td>Partner Account</td>\n      <td>INVSING00004620|10061</td>\n    </tr>\n    <tr>\n      <th>4</th>\n      <td>No</td>\n      <td>https://system.na1.netsuite.com/app/accounting...</td>\n      <td>https://system.na1.netsuite.com/app/common/ent...</td>\n      <td>Reseller</td>\n      <td>1/31/2019|230569 PT. Evotech Distribusi</td>\n      <td>INVSING00004620</td>\n      <td>2171.0</td>\n      <td>1/31/2019|230569 PT. Evotech Distribusi</td>\n      <td>2019-02-27</td>\n      <td>2019-01-28</td>\n      <td>...</td>\n      <td>0.0</td>\n      <td>Reseller</td>\n      <td>ID</td>\n      <td>NaN</td>\n      <td>No</td>\n      <td>No</td>\n      <td>Approved</td>\n      <td>NaN</td>\n      <td>Partner Account</td>\n      <td>INVSING00004620|2171</td>\n    </tr>\n  </tbody>\n</table>\n<p>5 rows × 77 columns</p>\n</div>"
     },
     "metadata": {}
    }
   ]
  },
  {
   "cell_type": "code",
   "metadata": {
    "cell_id": "256a820ed0d6440d80ac3f7bd32ab493",
    "tags": [],
    "deepnote_to_be_reexecuted": false,
    "source_hash": "4a5c604f",
    "execution_start": 1658867298117,
    "execution_millis": 1070,
    "deepnote_cell_type": "code",
    "deepnote_cell_height": 791
   },
   "source": "anon_invoice=dfAnonymizer(df_invoice)\nanon_invoice.column_suppression(['Detail URL','Customer URL','%SummaryKey','Project Name','Credit Limit'])\nanon_invoice.datetime_noise(date_columns)\n\nanon_invoice.info()\n",
   "execution_count": null,
   "outputs": [
    {
     "name": "stdout",
     "text": "+-----------------------------------------------+--------+-------------+-----------------------+\n|                    Column                     | Status |    Type     |        Method         |\n+===============================================+========+=============+=======================+\n| Is Missing Required PO                        | 0      | categorical |                       |\n+-----------------------------------------------+--------+-------------+-----------------------+\n| Detail URL                                    | 1      | categorical | Column Suppression    |\n+-----------------------------------------------+--------+-------------+-----------------------+\n| Customer URL                                  | 1      | categorical | Column Suppression    |\n+-----------------------------------------------+--------+-------------+-----------------------+\n| Collection Group                              | 0      | categorical |                       |\n+-----------------------------------------------+--------+-------------+-----------------------+\n| %SummaryKey                                   | 1      | categorical | Column Suppression    |\n+-----------------------------------------------+--------+-------------+-----------------------+\n| Document ID                                   | 0      | categorical |                       |\n+-----------------------------------------------+--------+-------------+-----------------------+\n| %ItemID                                       | 0      | numeric     |                       |\n+-----------------------------------------------+--------+-------------+-----------------------+\n| %ARCommentKey                                 | 0      | categorical |                       |\n+-----------------------------------------------+--------+-------------+-----------------------+\n| Due Date                                      | 1      | datetime    | Datetime Perturbation |\n+-----------------------------------------------+--------+-------------+-----------------------+\n| Date                                          | 1      | datetime    | Datetime Perturbation |\n+-----------------------------------------------+--------+-------------+-----------------------+\n| As Of Date                                    | 1      | datetime    | Datetime Perturbation |\n+-----------------------------------------------+--------+-------------+-----------------------+\n| Age                                           | 0      | categorical |                       |\n+-----------------------------------------------+--------+-------------+-----------------------+\n| Age - Month End                               | 0      | numeric     |                       |\n+-----------------------------------------------+--------+-------------+-----------------------+\n| Age - Quarter End                             | 0      | numeric     |                       |\n+-----------------------------------------------+--------+-------------+-----------------------+\n| Age - Year End                                | 0      | numeric     |                       |\n+-----------------------------------------------+--------+-------------+-----------------------+\n| Is Overdue                                    | 0      | categorical |                       |\n+-----------------------------------------------+--------+-------------+-----------------------+\n| Is Overdue Over 30 Days                       | 0      | categorical |                       |\n+-----------------------------------------------+--------+-------------+-----------------------+\n| Is Overdue Over 60 Days                       | 0      | categorical |                       |\n+-----------------------------------------------+--------+-------------+-----------------------+\n| Is Overdue Over 90 Days                       | 0      | categorical |                       |\n+-----------------------------------------------+--------+-------------+-----------------------+\n| Customer Original                             | 0      | categorical |                       |\n+-----------------------------------------------+--------+-------------+-----------------------+\n| Customer Code                                 | 0      | numeric     |                       |\n+-----------------------------------------------+--------+-------------+-----------------------+\n| Customer Name                                 | 0      | categorical |                       |\n+-----------------------------------------------+--------+-------------+-----------------------+\n| Transaction Type                              | 0      | categorical |                       |\n+-----------------------------------------------+--------+-------------+-----------------------+\n| Payment Terms on Account                      | 0      | categorical |                       |\n+-----------------------------------------------+--------+-------------+-----------------------+\n| Sales Rep Name                                | 0      | categorical |                       |\n+-----------------------------------------------+--------+-------------+-----------------------+\n| Supplier Portal                               | 0      | categorical |                       |\n+-----------------------------------------------+--------+-------------+-----------------------+\n| TempPriority                                  | 0      | numeric     |                       |\n+-----------------------------------------------+--------+-------------+-----------------------+\n| PO Number                                     | 0      | categorical |                       |\n+-----------------------------------------------+--------+-------------+-----------------------+\n| Project Name                                  | 1      | categorical | Column Suppression    |\n+-----------------------------------------------+--------+-------------+-----------------------+\n| Temp Transaction Amount                       | 0      | numeric     |                       |\n+-----------------------------------------------+--------+-------------+-----------------------+\n| Temp Amount Due (Foreign Currency)            | 0      | numeric     |                       |\n+-----------------------------------------------+--------+-------------+-----------------------+\n| Open Balance                                  | 0      | numeric     |                       |\n+-----------------------------------------------+--------+-------------+-----------------------+\n| Transaction Currency                          | 0      | categorical |                       |\n+-----------------------------------------------+--------+-------------+-----------------------+\n| End User Code                                 | 0      | numeric     |                       |\n+-----------------------------------------------+--------+-------------+-----------------------+\n| Rev. Rec. Start Date                          | 1      | datetime    | Datetime Perturbation |\n+-----------------------------------------------+--------+-------------+-----------------------+\n| Rev. Rec. End Date                            | 1      | datetime    | Datetime Perturbation |\n+-----------------------------------------------+--------+-------------+-----------------------+\n| Contract Item Start Date                      | 1      | datetime    | Datetime Perturbation |\n+-----------------------------------------------+--------+-------------+-----------------------+\n| Contract Item End Date                        | 1      | datetime    | Datetime Perturbation |\n+-----------------------------------------------+--------+-------------+-----------------------+\n| Contract Item Term                            | 0      | categorical |                       |\n+-----------------------------------------------+--------+-------------+-----------------------+\n| Contract Term (m)                             | 0      | categorical |                       |\n+-----------------------------------------------+--------+-------------+-----------------------+\n| Contract Term                                 | 0      | categorical |                       |\n+-----------------------------------------------+--------+-------------+-----------------------+\n| %DSOKey                                       | 0      | categorical |                       |\n+-----------------------------------------------+--------+-------------+-----------------------+\n| Customer                                      | 0      | categorical |                       |\n+-----------------------------------------------+--------+-------------+-----------------------+\n| End User                                      | 0      | categorical |                       |\n+-----------------------------------------------+--------+-------------+-----------------------+\n| Accounts Receivable Accountant                | 0      | categorical |                       |\n+-----------------------------------------------+--------+-------------+-----------------------+\n| Aging Bucket                                  | 0      | categorical |                       |\n+-----------------------------------------------+--------+-------------+-----------------------+\n| Forecast Aging Bucket - EOM                   | 0      | categorical |                       |\n+-----------------------------------------------+--------+-------------+-----------------------+\n| Forecast Aging Bucket - EOQ                   | 0      | categorical |                       |\n+-----------------------------------------------+--------+-------------+-----------------------+\n| Forecast Aging Bucket - EOY                   | 0      | categorical |                       |\n+-----------------------------------------------+--------+-------------+-----------------------+\n| Is Overdue Month End                          | 0      | categorical |                       |\n+-----------------------------------------------+--------+-------------+-----------------------+\n| Is Overdue Over 30 Days Month End             | 0      | categorical |                       |\n+-----------------------------------------------+--------+-------------+-----------------------+\n| Is Overdue Over 60 Days Month End             | 0      | categorical |                       |\n+-----------------------------------------------+--------+-------------+-----------------------+\n| Is Overdue Over 90 Days Month End             | 0      | categorical |                       |\n+-----------------------------------------------+--------+-------------+-----------------------+\n| Is Month End                                  | 0      | categorical |                       |\n+-----------------------------------------------+--------+-------------+-----------------------+\n| Payment Terms on Invoice                      | 0      | numeric     |                       |\n+-----------------------------------------------+--------+-------------+-----------------------+\n| Is Missing AR Comments                        | 0      | categorical |                       |\n+-----------------------------------------------+--------+-------------+-----------------------+\n| Amount Due (Foreign Currency)                 | 0      | categorical |                       |\n+-----------------------------------------------+--------+-------------+-----------------------+\n| Transaction Amount                            | 0      | categorical |                       |\n+-----------------------------------------------+--------+-------------+-----------------------+\n| Remaining (m)                                 | 0      | numeric     |                       |\n+-----------------------------------------------+--------+-------------+-----------------------+\n| Recognized Balance                            | 0      | numeric     |                       |\n+-----------------------------------------------+--------+-------------+-----------------------+\n| Remaining Deferred Balance                    | 0      | numeric     |                       |\n+-----------------------------------------------+--------+-------------+-----------------------+\n| Tax Value                                     | 0      | numeric     |                       |\n+-----------------------------------------------+--------+-------------+-----------------------+\n| Recognized Balance (Foreign Currency)         | 0      | categorical |                       |\n+-----------------------------------------------+--------+-------------+-----------------------+\n| Remaining Deferred Balance (Foreign Currency) | 0      | numeric     |                       |\n+-----------------------------------------------+--------+-------------+-----------------------+\n| Tax Value (Foreign Currency)                  | 0      | numeric     |                       |\n+-----------------------------------------------+--------+-------------+-----------------------+\n| Recognized Balance (Local)                    | 0      | numeric     |                       |\n+-----------------------------------------------+--------+-------------+-----------------------+\n| Remaining Deferred Balance (Local)            | 0      | numeric     |                       |\n+-----------------------------------------------+--------+-------------+-----------------------+\n| Tax Value (Local)                             | 0      | numeric     |                       |\n+-----------------------------------------------+--------+-------------+-----------------------+\n| Channel Tier                                  | 0      | categorical |                       |\n+-----------------------------------------------+--------+-------------+-----------------------+\n| Country Code                                  | 0      | categorical |                       |\n+-----------------------------------------------+--------+-------------+-----------------------+\n| Dedicated Account Rep                         | 0      | categorical |                       |\n+-----------------------------------------------+--------+-------------+-----------------------+\n| Is Dedicated Account                          | 0      | categorical |                       |\n+-----------------------------------------------+--------+-------------+-----------------------+\n| PO Required                                   | 0      | categorical |                       |\n+-----------------------------------------------+--------+-------------+-----------------------+\n| Credit Status                                 | 0      | categorical |                       |\n+-----------------------------------------------+--------+-------------+-----------------------+\n| Credit Limit                                  | 1      | numeric     | Column Suppression    |\n+-----------------------------------------------+--------+-------------+-----------------------+\n| SFDC Account Record Type                      | 0      | categorical |                       |\n+-----------------------------------------------+--------+-------------+-----------------------+\n| %InvoiceItemKey                               | 0      | categorical |                       |\n+-----------------------------------------------+--------+-------------+-----------------------+\n",
     "output_type": "stream"
    }
   ]
  },
  {
   "cell_type": "code",
   "metadata": {
    "cell_id": "36e4d8dee41b49b39f51945b2b6a016c",
    "tags": [],
    "deepnote_to_be_reexecuted": false,
    "source_hash": "97cfde18",
    "execution_start": 1658868027218,
    "execution_millis": 1974,
    "deepnote_cell_type": "code",
    "deepnote_cell_height": 477,
    "deepnote_output_heights": [
     515
    ]
   },
   "source": "df_invoice_anon=anon_invoice.to_df()\nvalue_columns=[\n    'Temp Transaction Amount',\n    'Temp Amount Due (Foreign Currency)',\n    'Open Balance',\n    'Amount Due (Foreign Currency)',\n    'Transaction Amount',\n    'Remaining (m)',\n    'Recognized Balance',\n    'Remaining Deferred Balance',\n    'Tax Value',\n    'Recognized Balance (Foreign Currency)',\n    'Remaining Deferred Balance (Foreign Currency)',\n    'Tax Value (Foreign Currency)',\n    'Recognized Balance (Local)',\n    'Remaining Deferred Balance (Local)',\n    'Tax Value (Local)'\n    ]\nfor column in value_columns:\n    #print(column,df_invoice_anon[column].dtype)\n    df_invoice_anon[column]=noise_amount_column(df_invoice_anon[column])\n\ndf_invoice_anon['Transaction Currency']=df_invoice_anon['Transaction Currency'].map(map_subsidiary_currency_code)",
   "execution_count": null,
   "outputs": []
  },
  {
   "cell_type": "code",
   "metadata": {
    "cell_id": "39ac0ebb8bc348f4ad75ed2eecf42750",
    "tags": [],
    "deepnote_to_be_reexecuted": false,
    "source_hash": "f4bb2cee",
    "execution_start": 1658868350213,
    "execution_millis": 41,
    "owner_user_id": "4fa63cfa-ea8d-4d03-955f-6d5886a159c0",
    "deepnote_cell_type": "code",
    "deepnote_cell_height": 81
   },
   "source": "",
   "execution_count": null,
   "outputs": []
  },
  {
   "cell_type": "markdown",
   "source": "<a style='text-decoration:none;line-height:16px;display:flex;color:#5B5B62;padding:10px;justify-content:end;' href='https://deepnote.com?utm_source=created-in-deepnote-cell&projectId=e3ab9b9d-2749-46b3-82e1-74830b780a5f' target=\"_blank\">\n<img alt='Created in deepnote.com' style='display:inline;max-height:16px;margin:0px;margin-right:7.5px;' src='data:image/svg+xml;base64,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' > </img>\nCreated in <span style='font-weight:600;margin-left:4px;'>Deepnote</span></a>",
   "metadata": {
    "tags": [],
    "created_in_deepnote_cell": true,
    "deepnote_cell_type": "markdown"
   }
  }
 ],
 "nbformat": 4,
 "nbformat_minor": 2,
 "metadata": {
  "orig_nbformat": 2,
  "deepnote": {},
  "deepnote_notebook_id": "9633830c-bf8c-448e-8e41-7ea81edd4ff6",
  "deepnote_execution_queue": []
 }
}